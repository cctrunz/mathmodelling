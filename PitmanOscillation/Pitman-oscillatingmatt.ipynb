{
 "cells": [
  {
   "cell_type": "code",
   "execution_count": 6,
   "metadata": {},
   "outputs": [
    {
     "name": "stdout",
     "output_type": "stream",
     "text": [
      "Populating the interactive namespace from numpy and matplotlib\n"
     ]
    }
   ],
   "source": [
    "%pylab inline\n",
    "#from pylab import *"
   ]
  },
  {
   "cell_type": "code",
   "execution_count": 25,
   "metadata": {},
   "outputs": [],
   "source": [
    "#Define parameters\n",
    "R_SS = 2.5*10.**-5 #Subsidence rate in m/yr\n",
    "P = 10.**8 #Period of sea level oscillations in years\n",
    "slope = 1./5000.\n",
    "omega = 2.*pi/P#angular frequency\n",
    "D = 2.5 *10**5 #m\n",
    "Psi = R_SS/(slope*D*omega)\n",
    "\n",
    "#Define timestep and number of steps\n",
    "dt = 0.005\n",
    "nsteps = 1500\n",
    "x = zeros(nsteps+1)\n",
    "x[0] = 1./(Psi**2.+1)#0.\n",
    "t = arange(nsteps+1)*dt\n",
    "for tstep in arange(nsteps):\n",
    "    dx_dt = -2.*pi*sin(2.*pi*t[tstep]) - 2.*pi*Psi*x[tstep]\n",
    "    x_pred = x[tstep] + dt*dx_dt\n",
    "    dx_dt_x_pred = -2.*pi*sin(2.*pi*t[tstep+1]) - 2.*pi*Psi*x_pred\n",
    "    x[tstep+1] = x[tstep] + dt*(dx_dt + dx_dt_x_pred)/2.\n"
   ]
  },
  {
   "cell_type": "code",
   "execution_count": 11,
   "metadata": {},
   "outputs": [],
   "source": [
    "#Midpoint method 2nd order\n",
    "#define parameters\n",
    "R_SS = 2.5*10.**-5 #Subsidence rate in m/yr\n",
    "P = 10.**8 #Period of sea level oscillations in years\n",
    "slope = 1./5000.\n",
    "omega = 2.*pi/P#angular frequency\n",
    "D = 2.5 *10**5 #m\n",
    "Psi = R_SS/(slope*D*omega)\n",
    "def dx_dt(xi,ti,Psi):\n",
    "    return -2.*pi*sin(2.*pi*ti) - 2.*pi*Psi*xi\n",
    "\n",
    "#Define timestep and number of steps\n",
    "dt = 0.03\n",
    "nsteps = 150\n",
    "x = zeros(nsteps+1)\n",
    "x[0] = 1./(Psi**2.+1)#0.\n",
    "t = arange(nsteps+1)*dt\n",
    "for tstep in arange(nsteps):\n",
    "    k1 = dt*dx_dt(x[tstep], t[tstep], Psi)\n",
    "    k2 = dt*dx_dt(x[tstep]+0.5*k1, t[tstep]+0.5*dt,Psi)\n",
    "    x[tstep+1] = x[tstep] + k2"
   ]
  },
  {
   "cell_type": "code",
   "execution_count": null,
   "metadata": {
    "collapsed": true
   },
   "outputs": [],
   "source": [
    "x_true = -1./sqrt(Psi**2. + 1.)*sin(2.*pi*t - arctan(1./Psi))\n",
    "y_sl = 0.1*cos(2.*pi*t)\n",
    "figure()\n",
    "plot(t,x)\n",
    "plot(t,x_true, 'k--')\n",
    "plot(t,y_sl, ':')\n",
    "legend(['Numerical', 'Analytical','Sea level'])\n",
    "xlabel('Time')\n",
    "ylabel('Shoreline position')"
   ]
  },
  {
   "cell_type": "code",
   "execution_count": 15,
   "metadata": {},
   "outputs": [
    {
     "ename": "NameError",
     "evalue": "name 'x4' is not defined",
     "output_type": "error",
     "traceback": [
      "\u001b[0;31m---------------------------------------------------------------------------\u001b[0m",
      "\u001b[0;31mNameError\u001b[0m                                 Traceback (most recent call last)",
      "\u001b[0;32m<ipython-input-15-4be9b38ea95f>\u001b[0m in \u001b[0;36m<module>\u001b[0;34m()\u001b[0m\n\u001b[1;32m     14\u001b[0m \u001b[0mnsteps\u001b[0m \u001b[1;33m=\u001b[0m \u001b[1;36m150\u001b[0m\u001b[1;33m\u001b[0m\u001b[0m\n\u001b[1;32m     15\u001b[0m \u001b[0mx\u001b[0m \u001b[1;33m=\u001b[0m \u001b[0mzeros\u001b[0m\u001b[1;33m(\u001b[0m\u001b[0mnsteps\u001b[0m\u001b[1;33m+\u001b[0m\u001b[1;36m1\u001b[0m\u001b[1;33m)\u001b[0m\u001b[1;33m\u001b[0m\u001b[0m\n\u001b[0;32m---> 16\u001b[0;31m \u001b[0mx4\u001b[0m\u001b[1;33m[\u001b[0m\u001b[1;36m0\u001b[0m\u001b[1;33m]\u001b[0m \u001b[1;33m=\u001b[0m \u001b[1;36m1.\u001b[0m\u001b[1;33m/\u001b[0m\u001b[1;33m(\u001b[0m\u001b[0mPsi\u001b[0m\u001b[1;33m**\u001b[0m\u001b[1;36m2.\u001b[0m\u001b[1;33m+\u001b[0m\u001b[1;36m1\u001b[0m\u001b[1;33m)\u001b[0m\u001b[1;31m#0.\u001b[0m\u001b[1;33m\u001b[0m\u001b[0m\n\u001b[0m\u001b[1;32m     17\u001b[0m \u001b[0mt\u001b[0m \u001b[1;33m=\u001b[0m \u001b[0marange\u001b[0m\u001b[1;33m(\u001b[0m\u001b[0mnsteps\u001b[0m\u001b[1;33m+\u001b[0m\u001b[1;36m1\u001b[0m\u001b[1;33m)\u001b[0m\u001b[1;33m*\u001b[0m\u001b[0mdt\u001b[0m\u001b[1;33m\u001b[0m\u001b[0m\n\u001b[1;32m     18\u001b[0m \u001b[1;32mfor\u001b[0m \u001b[0mtstep\u001b[0m \u001b[1;32min\u001b[0m \u001b[0marange\u001b[0m\u001b[1;33m(\u001b[0m\u001b[0mnsteps\u001b[0m\u001b[1;33m)\u001b[0m\u001b[1;33m:\u001b[0m\u001b[1;33m\u001b[0m\u001b[0m\n",
      "\u001b[0;31mNameError\u001b[0m: name 'x4' is not defined"
     ]
    }
   ],
   "source": [
    "#Midpoint method 4th order\n",
    "#define parameters\n",
    "R_SS = 2.5*10.**-5 #Subsidence rate in m/yr\n",
    "P = 10.**8 #Period of sea level oscillations in years\n",
    "slope = 1./5000.\n",
    "omega = 2.*pi/P#angular frequency\n",
    "D = 2.5 *10**5 #m\n",
    "Psi = R_SS/(slope*D*omega)\n",
    "def dx_dt(xi,ti,Psi):\n",
    "    return -2.*pi*sin(2.*pi*ti) - 2.*pi*Psi*xi\n",
    "\n",
    "#Define timestep and number of steps\n",
    "dt = 0.03\n",
    "nsteps = 150\n",
    "x = zeros(nsteps+1)\n",
    "x4[0] = 1./(Psi**2.+1)#0.\n",
    "t = arange(nsteps+1)*dt\n",
    "for tstep in arange(nsteps):\n",
    "    k1 = dt*dx_dt(x4[tstep], t[tstep], Psi)\n",
    "    k2 = dt*dx_dt(x4[tstep]   +0.5*k1, t[tstep]   +0.5*dt,Psi)\n",
    "    k3 = dt*dx_dt(x4[tstep] +0.5*k2, t[tstep] +0.5*dt,Psi)\n",
    "    k4 = dt*dx_d(x4[tstep+1]+k3, t[tstep+1], Psi)\n",
    "    \n",
    "    x4[tstep+1] = x4[tstep] + k1/6. + k2/3. + k3/3. + k4/6."
   ]
  },
  {
   "cell_type": "code",
   "execution_count": 13,
   "metadata": {},
   "outputs": [
    {
     "ename": "NameError",
     "evalue": "name 'x4' is not defined",
     "output_type": "error",
     "traceback": [
      "\u001b[0;31m---------------------------------------------------------------------------\u001b[0m",
      "\u001b[0;31mNameError\u001b[0m                                 Traceback (most recent call last)",
      "\u001b[0;32m<ipython-input-13-428eb5c63040>\u001b[0m in \u001b[0;36m<module>\u001b[0;34m()\u001b[0m\n\u001b[1;32m      2\u001b[0m \u001b[0my_sl\u001b[0m \u001b[1;33m=\u001b[0m \u001b[1;36m0.1\u001b[0m\u001b[1;33m*\u001b[0m\u001b[0mcos\u001b[0m\u001b[1;33m(\u001b[0m\u001b[1;36m2.\u001b[0m\u001b[1;33m*\u001b[0m\u001b[0mpi\u001b[0m\u001b[1;33m*\u001b[0m\u001b[0mt\u001b[0m\u001b[1;33m)\u001b[0m\u001b[1;33m\u001b[0m\u001b[0m\n\u001b[1;32m      3\u001b[0m \u001b[0mfigure\u001b[0m\u001b[1;33m(\u001b[0m\u001b[1;33m)\u001b[0m\u001b[1;33m\u001b[0m\u001b[0m\n\u001b[0;32m----> 4\u001b[0;31m \u001b[0mplot\u001b[0m\u001b[1;33m(\u001b[0m\u001b[0mt\u001b[0m\u001b[1;33m,\u001b[0m\u001b[0mx4\u001b[0m\u001b[1;33m,\u001b[0m\u001b[1;34m'r..'\u001b[0m\u001b[1;33m)\u001b[0m\u001b[1;33m\u001b[0m\u001b[0m\n\u001b[0m\u001b[1;32m      5\u001b[0m \u001b[0mplot\u001b[0m\u001b[1;33m(\u001b[0m\u001b[0mt\u001b[0m\u001b[1;33m,\u001b[0m\u001b[0mx\u001b[0m\u001b[1;33m)\u001b[0m\u001b[1;33m\u001b[0m\u001b[0m\n\u001b[1;32m      6\u001b[0m \u001b[0mplot\u001b[0m\u001b[1;33m(\u001b[0m\u001b[0mt\u001b[0m\u001b[1;33m,\u001b[0m\u001b[0mx_true\u001b[0m\u001b[1;33m,\u001b[0m \u001b[1;34m'k--'\u001b[0m\u001b[1;33m)\u001b[0m\u001b[1;33m\u001b[0m\u001b[0m\n",
      "\u001b[0;31mNameError\u001b[0m: name 'x4' is not defined"
     ]
    },
    {
     "data": {
      "text/plain": [
       "<matplotlib.figure.Figure at 0x7e7f320>"
      ]
     },
     "metadata": {},
     "output_type": "display_data"
    }
   ],
   "source": [
    "x_true = -1./sqrt(Psi**2. + 1.)*sin(2.*pi*t - arctan(1./Psi))\n",
    "y_sl = 0.1*cos(2.*pi*t)\n",
    "figure()\n",
    "plot(t,x4,'r..')\n",
    "plot(t,x)\n",
    "plot(t,x_true, 'k--')\n",
    "plot(t,y_sl, ':')\n",
    "legend(['Midpoint', 'Analytical','Sea level'])\n",
    "xlabel('Time')\n",
    "ylabel('Shoreline position')"
   ]
  },
  {
   "cell_type": "code",
   "execution_count": null,
   "metadata": {
    "collapsed": true
   },
   "outputs": [],
   "source": []
  }
 ],
 "metadata": {
  "anaconda-cloud": {},
  "kernelspec": {
   "display_name": "Python 2",
   "language": "python",
   "name": "python2"
  },
  "language_info": {
   "codemirror_mode": {
    "name": "ipython",
    "version": 2
   },
   "file_extension": ".py",
   "mimetype": "text/x-python",
   "name": "python",
   "nbconvert_exporter": "python",
   "pygments_lexer": "ipython2",
   "version": "2.7.13"
  }
 },
 "nbformat": 4,
 "nbformat_minor": 1
}
