{
 "cells": [
  {
   "cell_type": "code",
   "execution_count": 15,
   "metadata": {},
   "outputs": [
    {
     "name": "stdout",
     "output_type": "stream",
     "text": [
      "Using matplotlib backend: MacOSX\n",
      "Populating the interactive namespace from numpy and matplotlib\n"
     ]
    }
   ],
   "source": [
    "%pylab\n",
    "#%pylab inline\n",
    "#from pylab import *"
   ]
  },
  {
   "cell_type": "code",
   "execution_count": 16,
   "metadata": {
    "collapsed": true
   },
   "outputs": [],
   "source": [
    "# PITMAN 1978 MODEL\n",
    "\n",
    "# Define parameters\n",
    "R_SS = 2.5*10.**-5 #Subsidence rate in m/yr\n",
    "P = 10.**8 #Period of sea level oscillations in years\n",
    "slope = 1./5000.\n",
    "omega = 2.*pi/P #angular frequency [1/yrs]\n",
    "D = 2.5*10**5 #meters\n",
    "Psi = R_SS/(slope*D*omega)\n",
    "\n",
    "# Define timestep and number of steps\n",
    "dt = 0.001 #this is t* = t/P, 1/1000th of a period\n",
    "nsteps = 1500 #1.5 periods of oscillation\n",
    "x = zeros(nsteps+1)\n",
    "x[0] = 1./(Psi**2.+1) #0.\n",
    "t = arange(nsteps+1)*dt\n",
    "\n",
    "# EULER METHOD\n",
    "'''\n",
    "for tstep in arange(nsteps):\n",
    "    dx_dt = -2.*pi*sin(2.*pi*t[tstep]) - 2.*pi*Psi*x[tstep]\n",
    "    x[tstep+1] = x[tstep] + dt*dx_dt\n",
    "'''\n",
    "# PREDICTOR-CORRECTOR METHOD\n",
    "for tstep in arange(nsteps):\n",
    "    dx_dt = -2.*pi*sin(2.*pi*t[tstep]) - 2.*pi*Psi*x[tstep]\n",
    "    x_pred = x[tstep] + dt*dx_dt\n",
    "    dx_dt_x_pred = -2.*pi*sin(2.*pi*t[tstep+1]) - 2.*pi*Psi*x_pred\n",
    "    dx_dt_avg = (dx_dt + dx_dt_x_pred)/2\n",
    "    x[tstep+1] = x[tstep] + dt*dx_dt_avg"
   ]
  },
  {
   "cell_type": "code",
   "execution_count": 17,
   "metadata": {},
   "outputs": [
    {
     "data": {
      "text/plain": [
       "<matplotlib.text.Text at 0x115c62d90>"
      ]
     },
     "execution_count": 17,
     "metadata": {},
     "output_type": "execute_result"
    }
   ],
   "source": [
    "# PLOT\n",
    "\n",
    "# not full analytical solution, but close\n",
    "x_true = -1./sqrt(Psi**2. + 1.)*sin(2*pi*t - arctan(1./Psi))\n",
    "y_sl = 0.1*cos(2.*pi*t)\n",
    "\n",
    "# Figure\n",
    "figure()\n",
    "plot(t,x)\n",
    "plot(t,x_true, 'k--')\n",
    "plot(t, y_sl, ':')\n",
    "legend(['Numerical', 'Analytical', 'Sea Level'])\n",
    "xlabel(\"Time\")\n",
    "ylabel(\"Shoreline Position\")"
   ]
  },
  {
   "cell_type": "code",
   "execution_count": 31,
   "metadata": {},
   "outputs": [
    {
     "data": {
      "text/plain": [
       "<matplotlib.text.Text at 0x11db30990>"
      ]
     },
     "execution_count": 31,
     "metadata": {},
     "output_type": "execute_result"
    }
   ],
   "source": [
    "# MIDPOINT METHOD\n",
    "\n",
    "# Define parameters\n",
    "R_SS = 2.5*10.**-5 #Subsidence rate in m/yr\n",
    "P = 10.**8 #Period of sea level oscillations in years\n",
    "slope = 1./5000.\n",
    "omega = 2.*pi/P #angular frequency [1/yrs]\n",
    "D = 2.5*10**5 #meters\n",
    "Psi = R_SS/(slope*D*omega)\n",
    "\n",
    "# Functions\n",
    "def dx_dt(xi, ti, Psi):\n",
    "    return -2.*pi*sin(2.*pi*ti) - 2.*pi*Psi*xi\n",
    "\n",
    "# Define timestep and number of steps\n",
    "dt = 0.03 #this is t* = t/P, 1/1000th of a period\n",
    "nsteps = 150 #1.5 periods of oscillation\n",
    "x = zeros(nsteps+1)\n",
    "x[0] = 1./(Psi**2.+1) #0.\n",
    "t = arange(nsteps+1)*dt\n",
    "\n",
    "# 2nd ORDER RUNGAR-KUTTA\n",
    "for tstep in arange(nsteps):\n",
    "    k1 = dt*dx_dt(x[tstep], t[tstep], Psi)\n",
    "    k2 = dt*dx_dt(x[tstep]+0.5*k1, t[tstep]+0.5*dt, Psi)\n",
    "    x[tstep+1] = x[tstep] + k2\n",
    "\n",
    "# Define timestep and number of steps\n",
    "dt = 0.03 #this is t* = t/P, 1/1000th of a period\n",
    "nsteps = 150 #1.5 periods of oscillation\n",
    "x4 = zeros(nsteps+1)\n",
    "x4[0] = 1./(Psi**2.+1) #0.\n",
    "t = arange(nsteps+1)*dt\n",
    "\n",
    "# 4th ORDER RUNGAR-KUTTA\n",
    "for tstep in arange(nsteps):\n",
    "    k1 = dt*dx_dt(x4[tstep], t[tstep], Psi)\n",
    "    k2 = dt*dx_dt(x4[tstep]+0.5*k1, t[tstep]+0.5*dt, Psi)\n",
    "    k3 = dt*dx_dt(x4[tstep]+0.5*k2, t[tstep]+0.5*dt, Psi)\n",
    "    k4 = dt*dx_dt(x4[tstep]+k3, t[tstep+1], Psi)\n",
    "    x4[tstep+1] = x4[tstep] + k1/6. + k2/3. + k3/3. +k4/6.\n",
    "\n",
    "# PLOT\n",
    "\n",
    "# not full analytical solution, but close\n",
    "x_true = -1./sqrt(Psi**2. + 1.)*sin(2*pi*t - arctan(1./Psi))\n",
    "y_sl = 0.1*cos(2.*pi*t)\n",
    "\n",
    "figure()\n",
    "plot(t,x)\n",
    "plot(t,x4)\n",
    "plot(t,x_true, 'k--')\n",
    "legend(['Midpoint', '4th Order', 'Analytical']) \n",
    "xlabel(\"Time\")\n",
    "ylabel(\"Shoreline Position\")"
   ]
  },
  {
   "cell_type": "code",
   "execution_count": 33,
   "metadata": {
    "collapsed": true
   },
   "outputs": [],
   "source": [
    "from scipy.integrate import odeint"
   ]
  },
  {
   "cell_type": "code",
   "execution_count": 34,
   "metadata": {
    "collapsed": true
   },
   "outputs": [],
   "source": [
    "def dx_dt(xi, ti, Psi):\n",
    "    return -2.*pi*sin(2.*pi*ti) - 2.*pi*Psi*xi\n",
    "\n",
    "# Ode-int solves similar to 4th order Rungar-Kutta, just easier and faster, but different algorithm\n",
    "# less work, and better\n",
    "x_ode = odeint(dx_dt, x[0], t, args=(Psi,))"
   ]
  },
  {
   "cell_type": "code",
   "execution_count": 35,
   "metadata": {},
   "outputs": [
    {
     "data": {
      "text/plain": [
       "[<matplotlib.lines.Line2D at 0x1200af810>]"
      ]
     },
     "execution_count": 35,
     "metadata": {},
     "output_type": "execute_result"
    }
   ],
   "source": [
    "figure()\n",
    "plot(t, x_ode)"
   ]
  },
  {
   "cell_type": "code",
   "execution_count": null,
   "metadata": {
    "collapsed": true
   },
   "outputs": [],
   "source": []
  }
 ],
 "metadata": {
  "kernelspec": {
   "display_name": "Python 2",
   "language": "python",
   "name": "python2"
  },
  "language_info": {
   "codemirror_mode": {
    "name": "ipython",
    "version": 2
   },
   "file_extension": ".py",
   "mimetype": "text/x-python",
   "name": "python",
   "nbconvert_exporter": "python",
   "pygments_lexer": "ipython2",
   "version": "2.7.13"
  }
 },
 "nbformat": 4,
 "nbformat_minor": 2
}
