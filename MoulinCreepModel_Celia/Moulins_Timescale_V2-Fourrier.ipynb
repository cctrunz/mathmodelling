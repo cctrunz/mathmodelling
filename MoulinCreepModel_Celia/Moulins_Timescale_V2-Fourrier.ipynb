{
 "cells": [
  {
   "cell_type": "markdown",
   "metadata": {
    "collapsed": true
   },
   "source": [
    "# MOULIN'S WATER LEVEL TIMESCALE FLUCTUATIONS\n",
    "\n",
    "\n",
    "    1.Reservoir-constriction equation from eq(5a)&(5b)\n",
    "    2.Creep equation from eq(6) in Covington(2012)-> derived from Spring&Hutter(1981), \n",
    "    and also used in Arnold et al.(1998) model\n",
    "    \n",
    "![title](SketchMoulin.png)\n",
    "\n",
    "    Constants:\n",
    "    g = 9.81 m/s2\n",
    "    \n",
    "    Fixed variables:\n",
    "    R \n",
    "    \n",
    "    "
   ]
  },
  {
   "cell_type": "code",
   "execution_count": 25,
   "metadata": {},
   "outputs": [
    {
     "name": "stdout",
     "output_type": "stream",
     "text": [
      "Using matplotlib backend: MacOSX\n",
      "Populating the interactive namespace from numpy and matplotlib\n"
     ]
    }
   ],
   "source": [
    "%pylab\n",
    "from scipy.integrate import odeint\n",
    "from scipy import signal\n",
    "import matplotlib.pyplot as plt\n",
    "#import numpy as np"
   ]
  },
  {
   "cell_type": "code",
   "execution_count": 26,
   "metadata": {
    "collapsed": true
   },
   "outputs": [],
   "source": [
    "# RESERVOIR-CONSTRICTION\n",
    "########################\n",
    "\n",
    "# Constant:\n",
    "g = 9.81 #m/s2\n",
    "Lf = 3.34*10.**5 # J/kg\n",
    "n = 3. # Unitless, ice flow law exponent\n",
    "B = 5.8*10.**7 # N/m^2*s, Arrhenius parameter\n",
    "rhow = 1000. # kg/m^3, density of water\n",
    "rhoi = 900. # kg/m^3, density of ice\n",
    "ff = 0.1 #unitless\n",
    "\n",
    "\n",
    "def dh_Ac_dt(parameter, time, Recharge, Thickness, M_area, C_length):\n",
    "    Fh,FAc = parameter\n",
    "    D = sqrt(FAc*4./pi)\n",
    "    #FAc = pi*(D**2)/4.\n",
    "    Cf = 1. + ff*Thickness/D\n",
    "    Pwet = 2.*pi*D/2 # conduit wetted perimeter\n",
    "    Q = FAc*sqrt(2.*g*Fh/Cf)\n",
    "    Pw = rhow*g*Fh\n",
    "    Pi = rhoi*g*Thickness    \n",
    "    melt = (ff*rhow*Pwet*Q**3.)/(8.*rhoi*Lf*FAc**3.)\n",
    "    creep = 2.*(1./(n*B)**n)*FAc*(Pi-Pw)*abs(Pi-Pw)**(n-1.)\n",
    "    return (Recharge-Q)/M_area, melt-creep\n",
    "\n",
    "\n",
    "\n"
   ]
  },
  {
   "cell_type": "code",
   "execution_count": null,
   "metadata": {
    "collapsed": true
   },
   "outputs": [],
   "source": [
    "# odeint simple\n",
    "R = array([1., 3., 6.]) #m^3/s\n",
    "Z = 1000. # m, thickness of the ice\n",
    "r = 5. # m, radius of the moulin\n",
    "Ar = pi*r**2. # m^2\n",
    "L = 1000. #m\n",
    "Days = 10     ; duration = Days*24*3600; tstep = duration/100; time = linspace(0,duration,tstep)\n",
    "initialpara=[200.,0.1]\n",
    "t = time/(24*3600) # from seconds to days\n",
    "\n",
    "\n",
    "result = odeint(dh_Ac_dt, initialpara, time, args=(R[0], Z, Ar, L))\n",
    "h1 = result[:,0]\n",
    "Ac1 = result[:,1]\n",
    "print h1"
   ]
  },
  {
   "cell_type": "code",
   "execution_count": 27,
   "metadata": {
    "collapsed": true
   },
   "outputs": [],
   "source": [
    "# Odeint with a loop of parameters\n",
    "R = array([1.,2.,3.,4.,5.,6.,7.,8.,9.,10.]) #m^3/s\n",
    "Z = array([100.,200.,300.,400.,500.,600.,700.,800.,900.,1000.]) # m, thickness of the ice\n",
    "r = array([1.,2.,3.,4.,5.,6.,7.,8.,9.,10.]) # m, radius of the moulin\n",
    "L = 1000. #m\n",
    "Days = 1000.     ; duration = Days*24.*3600.; tstep = duration/100.; time = linspace(0,duration,tstep)\n",
    "initialpara=[200.,0.1]\n",
    "t = time/(24*3600) # from seconds to days\n",
    "htsc = np.zeros((10,10,10))\n",
    "Actsc = np.zeros((10,10,10))\n",
    "for i in [0,1,2,3,4,5,6,7,8,9]:\n",
    "    for j in [0,1,2,3,4,5,6,7,8,9]:\n",
    "        for k in [0,1,2,3,4,5,6,7,8,9]:\n",
    "            #h=[]\n",
    "            Ar = pi*r[k]**2. # m^2\n",
    "            result = odeint(dh_Ac_dt, initialpara, time, args=(R[j], Z[i], Ar, L))\n",
    "            h = result[:,0]\n",
    "            Ac = result[:,1]\n",
    "            f, Pxx_den = signal.periodogram(h)\n",
    "            pic = f[Pxx_den.argmax()]\n",
    "            htsc[i][j][k]=1/pic*100/3600\n",
    "            f, Pxx_den = signal.periodogram(Ac)\n",
    "            pic = f[Pxx_den.argmax()]\n",
    "            Actsc[i][j][k]=1/pic*100/3600\n"
   ]
  },
  {
   "cell_type": "code",
   "execution_count": 28,
   "metadata": {},
   "outputs": [
    {
     "data": {
      "text/plain": [
       "<matplotlib.legend.Legend at 0x12788de10>"
      ]
     },
     "execution_count": 28,
     "metadata": {},
     "output_type": "execute_result"
    }
   ],
   "source": [
    "\n",
    "figure()\n",
    "for i in [0,1,2,3,4,5,6,7,8,9]:\n",
    "    semilogx(htsc[:,2,i],Z,'.-')\n",
    "title('Short fluctuation timescales, R=2')\n",
    "ylabel('Z')\n",
    "xlabel('H timescale [days]')\n",
    "#xlim([0,65])\n",
    "legend(['r=1','r=2','r=3','r=4','r=5','r=6','r=7','r=8','r=9','r=10'])\n",
    "\n",
    "figure()\n",
    "for i in [0,1,2,3,4,5,6,7,8,9]:\n",
    "    semilogx(htsc[:,4,i],Z,'.-')\n",
    "title('Short fluctuation timescales, R=5')\n",
    "ylabel('Z')\n",
    "xlabel('H timescale [days]')\n",
    "#xlim([0,65])\n",
    "legend(['r=1','r=2','r=3','r=4','r=5','r=6','r=7','r=8','r=9','r=10'])\n",
    "\n",
    "figure()\n",
    "for i in [0,1,2,3,4,5,6,7,8,9]:\n",
    "    semilogx(htsc[:,9,i],Z,'.-')\n",
    "title('Short fluctuation timescales, R=10')\n",
    "ylabel('Z')\n",
    "xlabel('H timescale [days]')\n",
    "#xlim([0,65])\n",
    "legend(['r=1','r=2','r=3','r=4','r=5','r=6','r=7','r=8','r=9','r=10'])\n"
   ]
  },
  {
   "cell_type": "code",
   "execution_count": 21,
   "metadata": {},
   "outputs": [
    {
     "data": {
      "text/plain": [
       "<matplotlib.legend.Legend at 0x11bc10fd0>"
      ]
     },
     "execution_count": 21,
     "metadata": {},
     "output_type": "execute_result"
    }
   ],
   "source": [
    "figure()\n",
    "for i in [0,1,2,3,4,5,6,7,8,9]:\n",
    "    semilogx(htsc[1,:,i],R,'.-')\n",
    "title('Short fluctuation timescales, Z=200')\n",
    "ylabel('R [m3/s]')\n",
    "xlabel('H timescale [days]')\n",
    "#xlim([0,65])\n",
    "legend(['r=1','r=2','r=3','r=4','r=5','r=6','r=7','r=8','r=9','r=10'])\n",
    "\n",
    "figure()\n",
    "for i in [0,1,2,3,4,5,6,7,8,9]:\n",
    "    semilogx(htsc[4,:,i],R,'.-')\n",
    "title('Short fluctuation timescales, Z=500')\n",
    "ylabel('R [m3/s]')\n",
    "xlabel('H timescale [days]')\n",
    "#xlim([0,65])\n",
    "legend(['r=1','r=2','r=3','r=4','r=5','r=6','r=7','r=8','r=9','r=10'])\n",
    "\n",
    "figure()\n",
    "for i in [0,1,2,3,4,5,6,7,8,9]:\n",
    "    semilogx(htsc[9,:,i],R,'.-')\n",
    "title('Short fluctuation timescales, Z=1000')\n",
    "ylabel('R [m3/s]')\n",
    "xlabel('H timescale [days]')\n",
    "#xlim([0,65])\n",
    "legend(['r=1','r=2','r=3','r=4','r=5','r=6','r=7','r=8','r=9','r=10'])\n"
   ]
  },
  {
   "cell_type": "code",
   "execution_count": 22,
   "metadata": {},
   "outputs": [],
   "source": [
    "figure(figsize=(5,4))\n",
    "for i in [0,1,2,3,4,5,6,7,8,9]:\n",
    "    semilogx(htsc[1,i,:],r,'.-')\n",
    "title('Short fluctuation timescales, Z=200')\n",
    "ylabel('r [m]')\n",
    "xlabel('H timescale [days]')\n",
    "#xlim([0,65])\n",
    "#legend(['R=1','R=2','R=3','R=4','R=5','R=6','R=7','R=8','R=9','R=10'])\n",
    "savefig('./Presentation/HtscZ200.pdf')\n",
    "\n",
    "figure(figsize=(5,4))\n",
    "for i in [0,1,2,3,4,5,6,7,8,9]:\n",
    "    semilogx(htsc[4,i,:],r,'.-')\n",
    "title('Short fluctuation timescales, Z=500')\n",
    "ylabel('r [m]')\n",
    "xlabel('H timescale [days]')\n",
    "#xlim([0,65])\n",
    "#legend(['R=1','R=2','R=3','R=4','R=5','R=6','R=7','R=8','R=9','R=10'])\n",
    "savefig('./Presentation/HtscZ500.pdf')\n",
    "\n",
    "figure(figsize=(5,4))\n",
    "for i in [0,1,2,3,4,5,6,7,8,9]:\n",
    "    semilogx(htsc[9,i,:],r,'.-')\n",
    "title('Short fluctuation timescales, Z=1000')\n",
    "ylabel('r [m]')\n",
    "xlabel('H timescale [days]')\n",
    "#xlim([0,65])\n",
    "legend(['R=1','R=2','R=3','R=4','R=5','R=6','R=7','R=8','R=9','R=10'])\n",
    "savefig('./Presentation/HtscZ1000.pdf')"
   ]
  },
  {
   "cell_type": "code",
   "execution_count": 23,
   "metadata": {},
   "outputs": [
    {
     "data": {
      "text/plain": [
       "\"\\n#figure(figsize=(15,4))\\nfigure()\\nplot(t,h); title('Hydraulic head in the moulin'); ylabel('[m]'); xlabel('Day'); grid()\\n#figure(figsize=(15,4))\\nfigure()\\nplot(t,Ac); title('Conduit Diameter'); ylabel('[m]'); xlabel('Day'); grid()\\n\""
      ]
     },
     "execution_count": 23,
     "metadata": {},
     "output_type": "execute_result"
    }
   ],
   "source": [
    "# Odeint with a loop of parameters\n",
    "R = array([1.,2.,3.,4.,5.,6.,7.,8.,9.,10.]) #m^3/s\n",
    "Z = array([100.,200.,300.,400.,500.,600.,700.,800.,900.,1000.]) # m, thickness of the ice\n",
    "r = array([1.,2.,3.,4.,5.,6.,7.,8.,9.,10.]) # m, radius of the moulin\n",
    "L = 1000. #m\n",
    "Days = 1000.     ; duration = Days*24.*3600.; tstep = duration/100.; time = linspace(0,duration,tstep)\n",
    "initialpara=[200.,0.1]\n",
    "t = time/(24*3600) # from seconds to days\n",
    "htsc = np.zeros((10,10,10))\n",
    "Actsc = np.zeros((10,10,10))\n",
    "for i in [7]:\n",
    "    for j in [1]:\n",
    "        for k in [3]:\n",
    "            #h=[]\n",
    "            Ar = pi*r[k]**2. # m^2\n",
    "            result = odeint(dh_Ac_dt, initialpara, time, args=(R[j], Z[i], Ar, L))\n",
    "            h = result[:,0]\n",
    "            Ac = result[:,1]\n",
    "            f, Pxx_den = signal.periodogram(h)\n",
    "            pic = f[Pxx_den.argmax()]\n",
    "            htsc[i][j][k]=1/pic*100/3600\n",
    "            f, Pxx_den = signal.periodogram(Ac)\n",
    "            pic = f[Pxx_den.argmax()]\n",
    "            #Actsc[i][j][k]=1/pic*100/3600\n",
    "\n",
    "figure()\n",
    "f, Pxx_den = signal.periodogram(h)\n",
    "plt.semilogy(f, Pxx_den)\n",
    "plt.xlabel('frequency [Hz]')\n",
    "plt.ylabel('PSD [V**2/Hz]')\n",
    "plt.show()\n",
    "\n",
    "'''\n",
    "#figure(figsize=(15,4))\n",
    "figure()\n",
    "plot(t,h); title('Hydraulic head in the moulin'); ylabel('[m]'); xlabel('Day'); grid()\n",
    "#figure(figsize=(15,4))\n",
    "figure()\n",
    "plot(t,Ac); title('Conduit Diameter'); ylabel('[m]'); xlabel('Day'); grid()\n",
    "'''"
   ]
  },
  {
   "cell_type": "code",
   "execution_count": null,
   "metadata": {
    "collapsed": true
   },
   "outputs": [],
   "source": [
    "pic = f[Pxx_den.argmax()]  # Find the x value corresponding to the maximum y value\n",
    "print pic\n",
    "timescale=1/pic*100/3600\n",
    "print timescale"
   ]
  },
  {
   "cell_type": "code",
   "execution_count": null,
   "metadata": {
    "collapsed": true
   },
   "outputs": [],
   "source": [
    "figure(figsize=(15,4))\n",
    "plot(t,h); title('Hydraulic head in the moulin'); ylabel('[m]'); xlabel('Day'); grid()\n",
    "\n",
    "savefig('Moulin_HydraulicHead.pdf')\n",
    "figure(figsize=(15,4))\n",
    "plot(t,Dc); title('Conduit Diameter'); ylabel('[m]'); xlabel('Day'); grid()\n",
    "savefig('Moulin_ConduitDiameter.pdf')"
   ]
  },
  {
   "cell_type": "code",
   "execution_count": null,
   "metadata": {
    "collapsed": true
   },
   "outputs": [],
   "source": []
  },
  {
   "cell_type": "code",
   "execution_count": null,
   "metadata": {
    "collapsed": true
   },
   "outputs": [],
   "source": []
  }
 ],
 "metadata": {
  "anaconda-cloud": {},
  "kernelspec": {
   "display_name": "Python 2",
   "language": "python",
   "name": "python2"
  },
  "language_info": {
   "codemirror_mode": {
    "name": "ipython",
    "version": 2
   },
   "file_extension": ".py",
   "mimetype": "text/x-python",
   "name": "python",
   "nbconvert_exporter": "python",
   "pygments_lexer": "ipython2",
   "version": "2.7.13"
  }
 },
 "nbformat": 4,
 "nbformat_minor": 1
}
