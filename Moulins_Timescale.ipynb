{
 "cells": [
  {
   "cell_type": "code",
   "execution_count": 1,
   "metadata": {},
   "outputs": [
    {
     "name": "stdout",
     "output_type": "stream",
     "text": [
      "Populating the interactive namespace from numpy and matplotlib\n"
     ]
    }
   ],
   "source": [
    "%pylab inline\n",
    "from scipy.integrate import odeint"
   ]
  },
  {
   "cell_type": "markdown",
   "metadata": {
    "collapsed": true
   },
   "source": [
    "# MOULIN'S WATER LEVEL TIMESCALE FLUCTUATIONS\n",
    "\n",
    "\n",
    "    1.Reservoir-constriction equation from eq(5a)&(5b)\n",
    "    2.Creep equation from eq(6) in Covington(2012)-> derived from Spring&Hutter(1981), \n",
    "    and also used in Arnold et al.(1998) model\n",
    "    \n",
    "![title](SketchMoulin.png)\n",
    "\n",
    "    Constants:\n",
    "    g = 9.81 m/s2\n",
    "    \n",
    "    Fixed variables:\n",
    "    R \n",
    "    \n",
    "    "
   ]
  },
  {
   "cell_type": "code",
   "execution_count": 4,
   "metadata": {},
   "outputs": [
    {
     "name": "stderr",
     "output_type": "stream",
     "text": [
      "/anaconda/lib/python2.7/site-packages/ipykernel_launcher.py:39: RuntimeWarning: invalid value encountered in sqrt\n"
     ]
    }
   ],
   "source": [
    "# RESERVOIR-CONSTRICTION\n",
    "########################\n",
    "\n",
    "# Constant:\n",
    "g = 9.81 #m/s2\n",
    "\n",
    "\n",
    "# Inputs\n",
    "R = 10. #m^3/s\n",
    "\n",
    "\n",
    "# Parameters of the moulin\n",
    "Z = 1000. # m, thickness of the ice\n",
    "r = 2. # m, radius of the moulin\n",
    "Ar = pi*r**2. # m^2\n",
    "\n",
    "\n",
    "# Parameters of the conduit\n",
    "# Ac = pi*(D**2)/4. \n",
    "L = 1000. #m\n",
    "f = 0.1 #unitless\n",
    "\n",
    "\n",
    "\n",
    "# melt & creep\n",
    "rhow = 1000. # kg/m^3, density of water\n",
    "rhoi = 900. # kg/m^3, density of ice\n",
    "\n",
    "# wrong Pw = # Conduit water pression = h\n",
    "# wrong Pi = 500. # m, Ice overburden\n",
    "Lf = 3.34*10.**5 # J/kg\n",
    "n = 3. # Unitless, ice flow law exponent\n",
    "B = 5.8*10.**7 # N/m^2*s, Arrhenius parameter\n",
    "\n",
    "initialpara=[200.,3.] # initial h, initial conduit diameter\n",
    "\n",
    "def dh_dt(parameter, time, args=()):\n",
    "    Fh,FAc = parameter\n",
    "    D = sqrt(FAc*4./pi)\n",
    "    #FAc = pi*(D**2)/4.\n",
    "    Cf = 1. + f*L/D\n",
    "    Pwet = 2.*pi*D/2 # conduit wetted perimeter\n",
    "    Q = FAc*sqrt(2.*g*Fh/Cf)\n",
    "    Pw = rhow*g*Fh\n",
    "    Pi = rhoi*g*Z    \n",
    "    Cf = 1. + f*L/D # Friction\n",
    "    melt = (f*rhow*Pwet*Q**3.)/(8.*rhoi*Lf*FAc**3.)\n",
    "    creep = (2.*(1./n*B)**n)*FAc*(Pi-Pw)*abs(Pi-Pw)**(n-1.)\n",
    "    return (R - Q)/Ar, melt-creep\n",
    "\n",
    "# hours = 4 ;  duration = hours*3600\n",
    "# tstep = duration/100\n",
    "\n",
    "# t = linspace(0,duration,tstep)\n",
    "\n",
    "t = linspace(0,10000,100)\n",
    "result = odeint(dh_dt, initialpara, t, args=())\n"
   ]
  },
  {
   "cell_type": "code",
   "execution_count": 44,
   "metadata": {},
   "outputs": [
    {
     "name": "stdout",
     "output_type": "stream",
     "text": [
      "[200.0, 3.0]\n"
     ]
    }
   ],
   "source": [
    "print para"
   ]
  },
  {
   "cell_type": "code",
   "execution_count": null,
   "metadata": {
    "collapsed": true
   },
   "outputs": [],
   "source": []
  },
  {
   "cell_type": "code",
   "execution_count": null,
   "metadata": {
    "collapsed": true
   },
   "outputs": [],
   "source": []
  }
 ],
 "metadata": {
  "anaconda-cloud": {},
  "kernelspec": {
   "display_name": "Python 2",
   "language": "python",
   "name": "python2"
  },
  "language_info": {
   "codemirror_mode": {
    "name": "ipython",
    "version": 2
   },
   "file_extension": ".py",
   "mimetype": "text/x-python",
   "name": "python",
   "nbconvert_exporter": "python",
   "pygments_lexer": "ipython2",
   "version": "2.7.13"
  }
 },
 "nbformat": 4,
 "nbformat_minor": 1
}
