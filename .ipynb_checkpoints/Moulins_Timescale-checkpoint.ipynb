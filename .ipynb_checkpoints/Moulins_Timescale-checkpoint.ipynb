{
 "cells": [
  {
   "cell_type": "code",
   "execution_count": 5,
   "metadata": {},
   "outputs": [
    {
     "name": "stdout",
     "output_type": "stream",
     "text": [
      "Populating the interactive namespace from numpy and matplotlib\n"
     ]
    }
   ],
   "source": [
    "%pylab inline\n",
    "from scipy.integrate import odeint"
   ]
  },
  {
   "cell_type": "code",
   "execution_count": 2,
   "metadata": {
    "collapsed": true
   },
   "outputs": [],
   "source": [
    "# MOULIN'S WATER LEVEL TIMESCALE FLUCTUATIONS\n",
    "#############################################\n",
    "# use: \n",
    "# a) Reservoir-constriction equation from eq(5a)&(5b)\n",
    "# b) Creep equation from eq(6) in Covington(2012)-> derived from Spring&Hutter(1981), \n",
    "#    and also used in Arnold et al.(1998) model"
   ]
  },
  {
   "cell_type": "code",
   "execution_count": 3,
   "metadata": {
    "collapsed": true
   },
   "outputs": [],
   "source": [
    "# RESERVOIR-CONSTRICTION\n",
    "########################\n",
    "# D_h = small variation in waterlevel\n",
    "#\n",
    "#\n",
    "#\n",
    "#\n",
    "D_h1 = # 0.5#m\n",
    "A_R1 = 5000.#m^2\n",
    "L1 = 1000. #m\n",
    "f1 = 0.1 #unitless\n",
    "R1= 1. #m^3/s\n",
    "A_c1 = pi*(D_h1**2)/4.\n",
    "g=9.8 #m^2/s\n",
    "\n",
    "def dh_dt(h, tdummy, A_c, D_h, L, f, R, A_R):\n",
    "    Cf = 1. + f*L/D_h\n",
    "    Q = A_c*sqrt(2.*g*h/Cf)\n",
    "    return (R - Q)/A_R\n",
    "\n",
    "t = linspace(0,100000000,100)\n",
    "h1 = odeint(dh_dt, 0., t, args=(A_c1, D_h1,L1,f1,R1,A_R1))\n"
   ]
  },
  {
   "cell_type": "code",
   "execution_count": 4,
   "metadata": {},
   "outputs": [
    {
     "data": {
      "text/plain": [
       "[<matplotlib.lines.Line2D at 0x10cd085d0>]"
      ]
     },
     "execution_count": 4,
     "metadata": {},
     "output_type": "execute_result"
    },
    {
     "data": {
      "image/png": "[encoded data removed]",
      "text/plain": [
       "<matplotlib.figure.Figure at 0x10a6f8710>"
      ]
     },
     "metadata": {},
     "output_type": "display_data"
    }
   ],
   "source": [
    "plot(t,h1)"
   ]
  },
  {
   "cell_type": "code",
   "execution_count": null,
   "metadata": {
    "collapsed": true
   },
   "outputs": [],
   "source": []
  }
 ],
 "metadata": {
  "anaconda-cloud": {},
  "kernelspec": {
   "display_name": "Python 2",
   "language": "python",
   "name": "python2"
  },
  "language_info": {
   "codemirror_mode": {
    "name": "ipython",
    "version": 2
   },
   "file_extension": ".py",
   "mimetype": "text/x-python",
   "name": "python",
   "nbconvert_exporter": "python",
   "pygments_lexer": "ipython2",
   "version": "2.7.13"
  }
 },
 "nbformat": 4,
 "nbformat_minor": 1
}
