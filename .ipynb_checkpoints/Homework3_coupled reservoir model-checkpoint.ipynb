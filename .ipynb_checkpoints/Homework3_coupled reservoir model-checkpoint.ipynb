{
 "cells": [
  {
   "cell_type": "code",
   "execution_count": 5,
   "metadata": {},
   "outputs": [
    {
     "name": "stdout",
     "output_type": "stream",
     "text": [
      "Populating the interactive namespace from numpy and matplotlib\n"
     ]
    }
   ],
   "source": [
    "%pylab inline\n",
    "from scipy.integrate import odeint"
   ]
  },
  {
   "cell_type": "raw",
   "metadata": {
    "collapsed": true
   },
   "source": [
    "# Couple reservoir-constrictions model\n",
    "#############################################\n",
    "# Two reservoir are coupled\n",
    "# use: \n",
    "# a) Reservoir-constriction equation from eq(5a)&(5b) Covington 2012\n",
    "# \n"
   ]
  },
  {
   "cell_type": "code",
   "execution_count": 6,
   "metadata": {},
   "outputs": [
    {
     "name": "stdout",
     "output_type": "stream",
     "text": [
      "h1 at equilibrium = 16.7076564038 m\n",
      "h2 at equilibrium = 8.3538282019 m\n"
     ]
    },
    {
     "data": {
      "image/png": "[encoded data removed]",
      "text/plain": [
       "<matplotlib.figure.Figure at 0x101e7ca10>"
      ]
     },
     "metadata": {},
     "output_type": "display_data"
    }
   ],
   "source": [
    "# 1. Derive the coupled ODEs that describe this system\n",
    "########################\n",
    "# D_h = small variation in waterlevel\n",
    "#\n",
    "#\n",
    "#\n",
    "#\n",
    "\n",
    "\n",
    "\n",
    "# Define parameters\n",
    "D_h1 = 1 #m\n",
    "D_h2 = 1 #m\n",
    "A_R1 = 5000. #m^2\n",
    "A_R2 = 50. #m^2\n",
    "L1 = 1000. #m\n",
    "L2 = 1000.\n",
    "f1 = 0.1 #unitless\n",
    "f2 = 0.1\n",
    "R = 1. #m^3/s\n",
    "A_c1 = pi*(D_h1**2)/4.\n",
    "A_c2 = pi*(D_h2**2)/4.\n",
    "\n",
    "h=[0.,0.]\n",
    "\n",
    "g=9.8 #m^2/s\n",
    "\n",
    "\n",
    "# Question 1: Coupled equations\n",
    "\n",
    "def dh_dt(F_h, tdummy, F_Ac1,F_Ac2, F_Dh1,F_Dh2, F_L1, F_L2, F_f1, F_f2, F_R, F_AR1, F_AR2):\n",
    "    h1,h2 = F_h # what does this part do?\n",
    "    Cf1 = 1. + F_f1*F_L1/F_Dh1\n",
    "    Q1 = F_Ac1*sqrt(2.*g*(h1-h2)/Cf1)\n",
    "    Cf2 = 1. + F_f2*F_L2/F_Dh2\n",
    "    Q2 = F_Ac2*sqrt(2.*g*h2/Cf2)\n",
    "    \n",
    "    return ((R - Q1)/F_AR1, (Q1 - Q2)/F_AR2)\n",
    "\n",
    "\n",
    "\n",
    "t = linspace(0,10000000,100)\n",
    "resultat = odeint(dh_dt,h, t, args=(A_c1, A_c2, D_h1, D_h2, L1, L2, f1, f2, R, A_R1, A_R2))\n",
    "\n",
    "h1_eq = resultat [-1,0]\n",
    "h2_eq = resultat [-1,1]\n",
    "\n",
    "\n",
    "plot(t,resultat[:,0])\n",
    "plot(t,resultat[:,1])\n",
    "\n",
    "\n",
    "print 'h1 at equilibrium =', h1_eq ,'m'\n",
    "print 'h2 at equilibrium =', h2_eq ,'m'"
   ]
  },
  {
   "cell_type": "markdown",
   "metadata": {},
   "source": [
    "Question 2: With the paramters given, the system reaches equilibrium when h1=16.7m and h2=8.4m when R=Q2"
   ]
  },
  {
   "cell_type": "code",
   "execution_count": null,
   "metadata": {},
   "outputs": [],
   "source": [
    "# Question 3: the recharge fluctuate\n",
    "\n",
    "    \n",
    "g=9.8 #m^2/s\n",
    "\n",
    "# Define parameters\n",
    "D_h1 = 0.5 #m\n",
    "D_h2 = 0.5 #m\n",
    "A_R1 = 5000. #m^2\n",
    "A_R2 = 50. #m^2\n",
    "L1 = 1000. #m\n",
    "L2 = 1000.\n",
    "f1 = 0.1 #unitless\n",
    "f2 = 0.1\n",
    "# R = 1. #m^3/s\n",
    "A_c1 = pi*(D_h1**2)/4.\n",
    "A_c2 = pi*(D_h2**2)/4.\n",
    "\n",
    "C_f1 = 1. + f1*L1/D_h1\n",
    "C_f2 = 1. + f2*L2/D_h2\n",
    "\n",
    "#w=4*10**-6 # /s\n",
    "w=4*10**-4 # /s\n",
    "#w=4*10**-2 # /s\n",
    "\n",
    "h=[0.,0.]\n",
    "\n",
    "\n",
    "\n",
    "\n",
    "def dh_dt(F_h, time, F_Ac1,F_Ac2, F_Cf1, F_Cf2, F_AR1, F_AR2, F_w):\n",
    "    fh1,fh2 = F_h \n",
    "    fR_t = sin(w*time)+1    \n",
    "    fQ1 = F_Ac1*sqrt(2.*g*(fh1-fh2)/F_Cf1)\n",
    "    fQ2 = F_Ac2*sqrt(2.*g*fh2/F_Cf2)\n",
    "    \n",
    "    return ((fR_t - fQ1)/F_AR1, (fQ1 - fQ2)/F_AR2)\n",
    "\n",
    "t = linspace(0,1000000,100) # time at which we want the solution\n",
    "\n",
    "\n",
    "resultat = odeint(dh_dt,h, t, args=(A_c1,A_c2, C_f1, C_f2, A_R1, A_R2, w))\n",
    "\n",
    "h1=resultat[:,0]\n",
    "h2=resultat[:,1]\n",
    "\n",
    "Q1 = A_c1*sqrt(2.*g*(h1-h2)/C_f1)\n",
    "Q2 = A_c2*sqrt(2.*g*(h2)/C_f2)\n",
    "\n",
    "\n",
    "print t\n",
    "print Q1\n",
    "plot(t,Q1)\n",
    "plot(t,Q2)\n"
   ]
  },
  {
   "cell_type": "code",
   "execution_count": null,
   "metadata": {
    "collapsed": true
   },
   "outputs": [],
   "source": []
  },
  {
   "cell_type": "code",
   "execution_count": null,
   "metadata": {
    "collapsed": true
   },
   "outputs": [],
   "source": []
  }
 ],
 "metadata": {
  "anaconda-cloud": {},
  "kernelspec": {
   "display_name": "Python 2",
   "language": "python",
   "name": "python2"
  },
  "language_info": {
   "codemirror_mode": {
    "name": "ipython",
    "version": 2
   },
   "file_extension": ".py",
   "mimetype": "text/x-python",
   "name": "python",
   "nbconvert_exporter": "python",
   "pygments_lexer": "ipython2",
   "version": "2.7.13"
  }
 },
 "nbformat": 4,
 "nbformat_minor": 1
}
