{
 "cells": [
  {
   "cell_type": "code",
   "execution_count": 1,
   "metadata": {},
   "outputs": [
    {
     "name": "stdout",
     "output_type": "stream",
     "text": [
      "Populating the interactive namespace from numpy and matplotlib\n"
     ]
    }
   ],
   "source": [
    "%pylab inline"
   ]
  },
  {
   "cell_type": "code",
   "execution_count": 16,
   "metadata": {},
   "outputs": [],
   "source": [
    "from scipy.linalg import solve_banded\n",
    "\n",
    "# Define domain and parameters\n",
    "nx = 100\n",
    "ntimes = 100\n",
    "xmax = 1. # the distance across the domain\n",
    "endtime = 2. # the time it takes for water to flow across the domain, 2 flow times\n",
    "dt = endtime/(ntimes-1.)\n",
    "dx = xmax/(nx-1.)\n",
    "Pe = 50. #50 is relatively dispersive\n",
    "\n",
    "# Creating A array\n",
    "A_upper = dt*(1./(4*dx) - 1./(2.*Pe*dx**2))*ones(nx-2)\n",
    "A_mid = (1. + dt/(Pe*dx**2))*ones(nx-2)\n",
    "A_lower = dt*(-1./(4*dx) - 1./(2.*Pe*dx**2))*ones(nx-2)\n",
    "A_upper[0] = 0.\n",
    "A_lower[-1] = 0.\n",
    "A = vstack((A_upper, A_mid, A_lower))\n",
    "\n",
    "# Creating concentration array and set boundary conditions\n",
    "C = zeros([ntimes, nx])\n",
    "C_up = 1.\n",
    "C_down = 0.\n",
    "C[:,0] = C_up #set upstream boundary concentration\n",
    "C[:,-1] = C_down # set downstream boundary concentration\n",
    "\n",
    "# for loop\n",
    "for n in arange(ntimes-1):\n",
    "    b = C[n,1:-1]*(1. - dt/(2.*Pe*dx**2)) \\\n",
    "        + C[n,2:]*dt*(-1./(4.*dx) + 1./(2.*Pe*dx**2)) \\\n",
    "        + C[n,0:-2]*dt*(1./(4.*dx) + 1./(2.*Pe*dx**2))\n",
    "    b[0] += C_up*dt*(1./(4.*dx) + 1./(2.*Pe*dx**2))\n",
    "    b[-1] += C_down*dt*(-1./(4.*dx) + 1./(2.*Pe*dx**2))\n",
    "    C[n+1,1:-1] = solve_banded((1,1), A, b)"
   ]
  },
  {
   "cell_type": "code",
   "execution_count": 21,
   "metadata": {},
   "outputs": [
    {
     "data": {
      "text/plain": [
       "[<matplotlib.lines.Line2D at 0x619e7d650>]"
      ]
     },
     "execution_count": 21,
     "metadata": {},
     "output_type": "execute_result"
    },
    {
     "data": {
      "image/png": "[encoded data removed]",
      "text/plain": [
       "<matplotlib.figure.Figure at 0x619da5290>"
      ]
     },
     "metadata": {},
     "output_type": "display_data"
    }
   ],
   "source": [
    "plot(C[1,:])\n",
    "#plot(C[30,:])\n",
    "#plot(C[60,:])"
   ]
  },
  {
   "cell_type": "code",
   "execution_count": null,
   "metadata": {
    "collapsed": true
   },
   "outputs": [],
   "source": []
  }
 ],
 "metadata": {
  "kernelspec": {
   "display_name": "Python 2",
   "language": "python",
   "name": "python2"
  },
  "language_info": {
   "codemirror_mode": {
    "name": "ipython",
    "version": 2
   },
   "file_extension": ".py",
   "mimetype": "text/x-python",
   "name": "python",
   "nbconvert_exporter": "python",
   "pygments_lexer": "ipython2",
   "version": "2.7.13"
  }
 },
 "nbformat": 4,
 "nbformat_minor": 2
}
