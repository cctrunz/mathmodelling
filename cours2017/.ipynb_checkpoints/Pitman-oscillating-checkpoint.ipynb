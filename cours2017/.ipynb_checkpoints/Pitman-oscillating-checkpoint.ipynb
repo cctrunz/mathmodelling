{
 "cells": [
  {
   "cell_type": "code",
   "execution_count": 13,
   "metadata": {},
   "outputs": [
    {
     "name": "stdout",
     "output_type": "stream",
     "text": [
      "Using matplotlib backend: Qt5Agg\n",
      "Populating the interactive namespace from numpy and matplotlib\n"
     ]
    }
   ],
   "source": [
    "%pylab inline\n",
    "#from pylab import *"
   ]
  },
  {
   "cell_type": "code",
   "execution_count": 25,
   "metadata": {},
   "outputs": [],
   "source": [
    "#Define parameters\n",
    "R_SS = 2.5*10.**-5 #Subsidence rate in m/yr\n",
    "P = 10.**8 #Period of sea level oscillations in years\n",
    "slope = 1./5000.\n",
    "omega = 2.*pi/P#angular frequency\n",
    "D = 2.5 *10**5 #m\n",
    "Psi = R_SS/(slope*D*omega)\n",
    "\n",
    "#Define timestep and number of steps\n",
    "dt = 0.005\n",
    "nsteps = 1500\n",
    "x = zeros(nsteps+1)\n",
    "x[0] = 1./(Psi**2.+1)#0.\n",
    "t = arange(nsteps+1)*dt\n",
    "for tstep in arange(nsteps):\n",
    "    dx_dt = -2.*pi*sin(2.*pi*t[tstep]) - 2.*pi*Psi*x[tstep]\n",
    "    x_pred = x[tstep] + dt*dx_dt\n",
    "    dx_dt_x_pred = -2.*pi*sin(2.*pi*t[tstep+1]) - 2.*pi*Psi*x_pred\n",
    "    x[tstep+1] = x[tstep] + dt*(dx_dt + dx_dt_x_pred)/2.\n"
   ]
  },
  {
   "cell_type": "code",
   "execution_count": 26,
   "metadata": {},
   "outputs": [
    {
     "data": {
      "text/plain": [
       "<matplotlib.text.Text at 0xc1631d0>"
      ]
     },
     "execution_count": 26,
     "metadata": {},
     "output_type": "execute_result"
    }
   ],
   "source": [
    "x_true = -1./sqrt(Psi**2. + 1.)*sin(2.*pi*t - arctan(1./Psi))\n",
    "y_sl = 0.1*cos(2.*pi*t)\n",
    "figure()\n",
    "plot(t,x)\n",
    "plot(t,x_true, 'k--')\n",
    "plot(t,y_sl, ':')\n",
    "legend(['Numerical', 'Analytical','Sea level'])\n",
    "xlabel('Time')\n",
    "ylabel('Shoreline position')"
   ]
  },
  {
   "cell_type": "code",
   "execution_count": null,
   "metadata": {
    "collapsed": true
   },
   "outputs": [],
   "source": []
  }
 ],
 "metadata": {
  "anaconda-cloud": {},
  "kernelspec": {
   "display_name": "Python 2",
   "language": "python",
   "name": "python2"
  },
  "language_info": {
   "codemirror_mode": {
    "name": "ipython",
    "version": 2
   },
   "file_extension": ".py",
   "mimetype": "text/x-python",
   "name": "python",
   "nbconvert_exporter": "python",
   "pygments_lexer": "ipython2",
   "version": "2.7.13"
  }
 },
 "nbformat": 4,
 "nbformat_minor": 1
}
