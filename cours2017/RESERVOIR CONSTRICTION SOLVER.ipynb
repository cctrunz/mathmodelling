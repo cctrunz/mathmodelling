{
 "cells": [
  {
   "cell_type": "code",
   "execution_count": 58,
   "metadata": {
    "collapsed": true
   },
   "outputs": [],
   "source": [
    "# Shoreline position oscillation for different timescales\n",
    "# From Matt Covington for Mathematical modeling, modify by Celia Trunz"
   ]
  },
  {
   "cell_type": "code",
   "execution_count": 15,
   "metadata": {},
   "outputs": [
    {
     "name": "stdout",
     "output_type": "stream",
     "text": [
      "Populating the interactive namespace from numpy and matplotlib\n"
     ]
    }
   ],
   "source": [
    "#for python notebook (in Jupyter)\n",
    "%pylab inline\n",
    "from scipy.integrate import odeint\n",
    "\n",
    "#for python file (in spider)\n",
    "# from pylab import * "
   ]
  },
  {
   "cell_type": "code",
   "execution_count": 18,
   "metadata": {},
   "outputs": [
    {
     "data": {
      "text/plain": [
       "[<matplotlib.lines.Line2D at 0x10fb0d190>]"
      ]
     },
     "execution_count": 18,
     "metadata": {},
     "output_type": "execute_result"
    },
    {
     "data": {
      "image/png": "[encoded data removed]",
      "text/plain": [
       "<matplotlib.figure.Figure at 0x10fa74250>"
      ]
     },
     "metadata": {},
     "output_type": "display_data"
    }
   ],
   "source": [
    "# DEFINE PARAMETERS\n",
    "\n",
    "DH1 = 0.5 # m\n",
    "L1 = 1000 # m\n",
    "Ar1 = 5000 # m2\n",
    "R0 = 0 # m3/s\n",
    "Rt = 1 # m3/s\n",
    "f = 0.1\n",
    "g=9.8 # m^2/sec\n",
    "\n",
    "\n",
    "\n",
    "\n",
    "Ac1 = pi*(DH1/2)**2\n",
    "\n",
    "def dh_dt(h, tdummy, R, Ar, Ac, L, DH):\n",
    "    Cf = 1 + (f*L)/DH\n",
    "    Q = Ac * sqrt((2*g/Cf) * abs(h - 0))\n",
    "    return (R - Q)/Ar\n",
    "\n",
    "t = linspace(0,10000000,100)\n",
    "h1 = odeint(dh_dt, 0., t, args=(Rt, Ar1, Ac1, L1, DH1))\n",
    "\n",
    "plot(t,h1)"
   ]
  }
 ],
 "metadata": {
  "kernelspec": {
   "display_name": "Python 2",
   "language": "python",
   "name": "python2"
  },
  "language_info": {
   "codemirror_mode": {
    "name": "ipython",
    "version": 2
   },
   "file_extension": ".py",
   "mimetype": "text/x-python",
   "name": "python",
   "nbconvert_exporter": "python",
   "pygments_lexer": "ipython2",
   "version": "2.7.13"
  }
 },
 "nbformat": 4,
 "nbformat_minor": 2
}
