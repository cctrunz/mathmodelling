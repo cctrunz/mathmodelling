{
 "cells": [
  {
   "cell_type": "markdown",
   "metadata": {
    "collapsed": true
   },
   "source": [
    "# MOULIN'S WATER LEVEL TIMESCALE FLUCTUATIONS\n",
    "\n",
    "\n",
    "    1.Reservoir-constriction equation from eq(5a)&(5b)\n",
    "    2.Creep equation from eq(6) in Covington(2012)-> derived from Spring&Hutter(1981), \n",
    "    and also used in Arnold et al.(1998) model\n",
    "    \n",
    "![title](SketchMoulin.png)\n",
    "\n",
    "    Constants:\n",
    "    g = 9.81 m/s2\n",
    "    \n",
    "    Fixed variables:\n",
    "    R \n",
    "    \n",
    "    "
   ]
  },
  {
   "cell_type": "code",
   "execution_count": 1,
   "metadata": {},
   "outputs": [
    {
     "name": "stdout",
     "output_type": "stream",
     "text": [
      "Using matplotlib backend: MacOSX\n",
      "Populating the interactive namespace from numpy and matplotlib\n"
     ]
    }
   ],
   "source": [
    "%pylab\n",
    "from scipy.integrate import odeint"
   ]
  },
  {
   "cell_type": "code",
   "execution_count": 2,
   "metadata": {
    "collapsed": true
   },
   "outputs": [],
   "source": [
    "# RESERVOIR-CONSTRICTION\n",
    "########################\n",
    "\n",
    "# Constant:\n",
    "g = 9.81 #m/s2\n",
    "Lf = 3.34*10.**5 # J/kg\n",
    "n = 3. # Unitless, ice flow law exponent\n",
    "B = 5.8*10.**7 # N/m^2*s, Arrhenius parameter\n",
    "rhow = 1000. # kg/m^3, density of water\n",
    "rhoi = 900. # kg/m^3, density of ice\n",
    "f = 0.1 #unitless\n",
    "\n",
    "\n",
    "def dh_Ac_dt(parameter, time, Recharge, Thickness, M_area, C_length):\n",
    "    Fh,FAc = parameter\n",
    "    D = sqrt(FAc*4./pi)\n",
    "    #FAc = pi*(D**2)/4.\n",
    "    Cf = 1. + f*Thickness/D\n",
    "    Pwet = 2.*pi*D/2 # conduit wetted perimeter\n",
    "    Q = FAc*sqrt(2.*g*Fh/Cf)\n",
    "    Pw = rhow*g*Fh\n",
    "    Pi = rhoi*g*Thickness    \n",
    "    melt = (f*rhow*Pwet*Q**3.)/(8.*rhoi*Lf*FAc**3.)\n",
    "    creep = 2.*(1./(n*B)**n)*FAc*(Pi-Pw)*abs(Pi-Pw)**(n-1.)\n",
    "    return (Recharge-Q)/M_area, melt-creep\n",
    "\n",
    "\n",
    "\n"
   ]
  },
  {
   "cell_type": "code",
   "execution_count": 3,
   "metadata": {
    "collapsed": true
   },
   "outputs": [],
   "source": [
    "# head and conduit\n",
    "\n",
    "\n",
    "R = 2. #m^3/s\n",
    "Z = 1000. # m, thickness of the ice\n",
    "r = 5. # m, radius of the moulin\n",
    "Ar = pi*r**2. # m^2\n",
    "L = 1000. #m\n",
    "Days = 10     ; duration = Days*24*3600; tstep = duration/100; time = linspace(0,duration,tstep)\n",
    "initialpara=[320.,0.65]\n",
    "t = time/(24*3600) # from seconds to days\n",
    "\n",
    "result = odeint(dh_Ac_dt, initialpara, time, args=(R, Z, Ar, L))\n",
    "h = result[:,0]\n",
    "Ac = result[:,1]\n",
    "Dc = sqrt(Ac/pi)*2\n",
    "\n",
    "figure(figsize=(15,4))\n",
    "plot(t,h); title('Hydraulic head in the moulin'); ylabel('[m]'); xlabel('Day'); grid()\n",
    "\n",
    "savefig('Moulin_HydraulicHead.pdf')\n",
    "figure(figsize=(15,4))\n",
    "plot(t,Dc); title('Conduit Diameter'); ylabel('[m]'); xlabel('Day'); grid()\n",
    "savefig('Moulin_ConduitDiameter.pdf')"
   ]
  },
  {
   "cell_type": "code",
   "execution_count": 4,
   "metadata": {},
   "outputs": [
    {
     "name": "stdout",
     "output_type": "stream",
     "text": [
      "Moulin radius = 5.0\n",
      "Conduit length = 1000.0\n",
      "Recharge = 2.0\n"
     ]
    }
   ],
   "source": [
    "# Variation of Z\n",
    "\n",
    "R = array([1., 2., 5., 10., 15., 20.]) #m^3/s\n",
    "Z = array([200., 400., 600., 800., 1000., 1200.]) # m, thickness of the ice\n",
    "r = 5. # m, radius of the moulin\n",
    "Ar = pi*r**2. # m^2\n",
    "L = 1000. #m\n",
    "Days = 10     ; duration = Days*24*3600; tstep = duration/100; time = linspace(0,duration,tstep)\n",
    "initialpara=[200.,0.1]\n",
    "t = time/(24*3600) # from seconds to days\n",
    "\n",
    "f, ((ax1, ax2, ax3, ax4, ax5), \n",
    "    (ax6, ax7, ax7, ax8, ax9),\n",
    "    (ax10, ax11, ax12, ax13, ax14),\n",
    "    (ax15, ax16, ax17, ax18, ax19),\n",
    "    (ax20, ax21, ax22, ax23, ax24),\n",
    "    = plt.subplots(5, 5, sharex='col', sharey='row')\n",
    "\n",
    "for n in [0,1,2,3,4,5]\n",
    "result = odeint(dh_Ac_dt, initialpara, time, args=(R, Z[n], Ar, L))\n",
    "h = result[:,0]\n",
    "Ac = result[:,1]\n",
    "ax1.plot(t,h)    \n",
    "    \n",
    "\n",
    "figure(figsize=(15,4))\n",
    "plot(t,h1); title('Hydraulic head in the moulin'); ylabel('[m]'); xlabel('Day'); grid()\n",
    "plot(t,h2); title('Hydraulic head in the moulin'); ylabel('[m]'); xlabel('Day'); grid()\n",
    "plot(t,h3); title('Hydraulic head in the moulin'); ylabel('[m]'); xlabel('Day'); grid()\n",
    "plot(t,h4); title('Hydraulic head in the moulin'); ylabel('[m]'); xlabel('Day'); grid()\n",
    "plot(t,h5); title('Hydraulic head in the moulin'); ylabel('[m]'); xlabel('Day'); grid()\n",
    "plot(t,h6); title('Hydraulic head in the moulin'); ylabel('[m]'); xlabel('Day'); grid()\n",
    "legend(['Z=' + str(Z[0]),'Z=' + str(Z[1]), 'Z=' + str(Z[2]), 'Z=' + str(Z[3]), 'Z=' + str(Z[4]), 'Z=' + str(Z[5])])\n",
    "savefig('Moulin_IceThickness.pdf')\n",
    "\n",
    "print 'Moulin radius = ' + str(r)\n",
    "print 'Conduit length = ' + str(L)\n",
    "print 'Recharge = ' + str(R)\n"
   ]
  },
  {
   "cell_type": "code",
   "execution_count": 32,
   "metadata": {},
   "outputs": [
    {
     "name": "stdout",
     "output_type": "stream",
     "text": [
      "Moulin radius = 5.0\n",
      "Conduit length = 1000.0\n",
      "Ice thickness = 1000.0\n"
     ]
    }
   ],
   "source": [
    "# Variation of R\n",
    "\n",
    "#R = array([1., 2., 3., 5., 8., 10.]) #m^3/s\n",
    "R = array([1., 3., 6.]) #m^3/s\n",
    "Z = 1000. # m, thickness of the ice\n",
    "r = 5. # m, radius of the moulin\n",
    "Ar = pi*r**2. # m^2\n",
    "L = 1000. #m\n",
    "Days = 10     ; duration = Days*24*3600; tstep = duration/100; time = linspace(0,duration,tstep)\n",
    "initialpara=[200.,0.1]\n",
    "t = time/(24*3600) # from seconds to days\n",
    "\n",
    "result = odeint(dh_Ac_dt, initialpara, time, args=(R[0], Z, Ar, L))\n",
    "h1 = result[:,0]\n",
    "Ac1 = result[:,1]\n",
    "\n",
    "result = odeint(dh_Ac_dt, initialpara, time, args=(R[1], Z, Ar, L))\n",
    "h2 = result[:,0]\n",
    "Ac2 = result[:,1]\n",
    "\n",
    "result = odeint(dh_Ac_dt, initialpara, time, args=(R[2], Z, Ar, L))\n",
    "h3 = result[:,0]\n",
    "Ac3 = result[:,1]\n",
    "'''\n",
    "result = odeint(dh_Ac_dt, initialpara, time, args=(R[3], Z, Ar, L))\n",
    "h4 = result[:,0]\n",
    "Ac4 = result[:,1]\n",
    "\n",
    "result = odeint(dh_Ac_dt, initialpara, time, args=(R[4], Z, Ar, L))\n",
    "h5 = result[:,0]\n",
    "Ac5 = result[:,1]\n",
    "\n",
    "result = odeint(dh_Ac_dt, initialpara, time, args=(R[5], Z, Ar, L))\n",
    "h6 = result[:,0]\n",
    "Ac6 = result[:,1]\n",
    "'''\n",
    "figure(figsize=(15,4))\n",
    "plot(t,h1); title('Hydraulic head in the moulin'); ylabel('[m]'); xlabel('Day'); grid()\n",
    "plot(t,h2); title('Hydraulic head in the moulin'); ylabel('[m]'); xlabel('Day'); grid()\n",
    "plot(t,h3); title('Hydraulic head in the moulin'); ylabel('[m]'); xlabel('Day'); grid()\n",
    "'''\n",
    "plot(t,h4); title('Hydraulic head in the moulin'); ylabel('[m]'); xlabel('Day'); grid()\n",
    "plot(t,h5); title('Hydraulic head in the moulin'); ylabel('[m]'); xlabel('Day'); grid()\n",
    "plot(t,h6); title('Hydraulic head in the moulin'); ylabel('[m]'); xlabel('Day'); grid()\n",
    "'''\n",
    "#legend(['R=' + str(R[0]),'R=' + str(R[1]), 'R=' + str(R[2]), 'R=' + str(R[3]), 'R=' + str(R[4]), 'R=' + str(R[5])])\n",
    "legend([ 'R=' + str(R[0]),'R=' + str(R[1]), 'R=' + str(R[2]) ])\n",
    "savefig('Moulin_Recharge.pdf')\n",
    "\n",
    "print 'Moulin radius = ' + str(r)\n",
    "print 'Conduit length = ' + str(L)\n",
    "#print 'Recharge = ' + str(R)\n",
    "print 'Ice thickness = ' + str(Z)"
   ]
  },
  {
   "cell_type": "code",
   "execution_count": 33,
   "metadata": {},
   "outputs": [
    {
     "name": "stdout",
     "output_type": "stream",
     "text": [
      "Conduit length = 1000.0\n",
      "Recharge = 2.0\n",
      "Ice thickness = 1000.0\n"
     ]
    }
   ],
   "source": [
    "# Variation of r\n",
    "\n",
    "R = 2. #m^3/s\n",
    "Z = 1000. # m, thickness of the ice\n",
    "#r = array([1., 2., 3., 4., 5., 6.]) # m, radius of the moulin\n",
    "r = array([1., 3., 6.]) # m, radius of the moulin\n",
    "Ar = pi*r**2. # m^2\n",
    "L = 1000. #m\n",
    "Days = 10     ; duration = Days*24*3600; tstep = duration/100; time = linspace(0,duration,tstep)\n",
    "initialpara=[200.,0.1]\n",
    "t = time/(24*3600) # from seconds to days\n",
    "\n",
    "result = odeint(dh_Ac_dt, initialpara, time, args=(R, Z, Ar[0], L))\n",
    "h1 = result[:,0]\n",
    "Ac1 = result[:,1]\n",
    "\n",
    "result = odeint(dh_Ac_dt, initialpara, time, args=(R, Z, Ar[1], L))\n",
    "h2 = result[:,0]\n",
    "Ac2 = result[:,1]\n",
    "\n",
    "result = odeint(dh_Ac_dt, initialpara, time, args=(R, Z, Ar[2], L))\n",
    "h3 = result[:,0]\n",
    "Ac3 = result[:,1]\n",
    "\n",
    "'''\n",
    "result = odeint(dh_Ac_dt, initialpara, time, args=(R, Z, Ar[3], L))\n",
    "h4 = result[:,0]\n",
    "Ac4 = result[:,1]\n",
    "\n",
    "result = odeint(dh_Ac_dt, initialpara, time, args=(R, Z, Ar[4], L))\n",
    "h5 = result[:,0]\n",
    "Ac5 = result[:,1]\n",
    "\n",
    "result = odeint(dh_Ac_dt, initialpara, time, args=(R, Z, Ar[5], L))\n",
    "h6 = result[:,0]\n",
    "Ac6 = result[:,1]\n",
    "'''\n",
    "\n",
    "figure(figsize=(15,4))\n",
    "plot(t,h1); title('Hydraulic head in the moulin'); ylabel('[m]'); xlabel('Day'); grid()\n",
    "plot(t,h2); title('Hydraulic head in the moulin'); ylabel('[m]'); xlabel('Day'); grid()\n",
    "plot(t,h3); title('Hydraulic head in the moulin'); ylabel('[m]'); xlabel('Day'); grid()\n",
    "'''\n",
    "plot(t,h4); title('Hydraulic head in the moulin'); ylabel('[m]'); xlabel('Day'); grid()\n",
    "plot(t,h5); title('Hydraulic head in the moulin'); ylabel('[m]'); xlabel('Day'); grid()\n",
    "plot(t,h6); title('Hydraulic head in the moulin'); ylabel('[m]'); xlabel('Day'); grid()\n",
    "'''\n",
    "#legend(['r=' + str(r[0]),'r=' + str(r[1]), 'r=' + str(r[2]), 'r=' + str(r[3]), 'r=' + str(r[4]), 'r=' + str(r[5])])\n",
    "legend([ 'r=' + str(r[0]),'r=' + str(r[1]), 'r=' + str(r[2]) ])\n",
    "savefig('Moulin_Radius.pdf')\n",
    "\n",
    "#print 'Moulin radius = ' + str(r)\n",
    "print 'Conduit length = ' + str(L)\n",
    "print 'Recharge = ' + str(R)\n",
    "print 'Ice thickness = ' + str(Z)"
   ]
  },
  {
   "cell_type": "code",
   "execution_count": 34,
   "metadata": {},
   "outputs": [
    {
     "name": "stdout",
     "output_type": "stream",
     "text": [
      "Moulin radius = 5.0\n",
      "Recharge = 2.0\n",
      "Ice thickness = 1000.0\n"
     ]
    }
   ],
   "source": [
    "# Variation of L\n",
    "\n",
    "R = 2. #m^3/s\n",
    "Z = 1000. # m, thickness of the ice\n",
    "r = 5. # m, radius of the moulin\n",
    "Ar = pi*r**2. # m^2\n",
    "L = array([200., 400., 600., 800., 1000., 12000.]) #m\n",
    "Days = 10     ; duration = Days*24*3600; tstep = duration/100; time = linspace(0,duration,tstep)\n",
    "initialpara=[200.,0.1]\n",
    "t = time/(24*3600) # from seconds to days\n",
    "\n",
    "result = odeint(dh_Ac_dt, initialpara, time, args=(R, Z, Ar, L[0]))\n",
    "h1 = result[:,0]\n",
    "Ac1 = result[:,1]\n",
    "\n",
    "result = odeint(dh_Ac_dt, initialpara, time, args=(R, Z, Ar, L[1]))\n",
    "h2 = result[:,0]\n",
    "Ac2 = result[:,1]\n",
    "\n",
    "result = odeint(dh_Ac_dt, initialpara, time, args=(R, Z, Ar, L[2]))\n",
    "h3 = result[:,0]\n",
    "Ac3 = result[:,1]\n",
    "\n",
    "result = odeint(dh_Ac_dt, initialpara, time, args=(R, Z, Ar, L[3]))\n",
    "h4 = result[:,0]\n",
    "Ac4 = result[:,1]\n",
    "\n",
    "result = odeint(dh_Ac_dt, initialpara, time, args=(R, Z, Ar, L[4]))\n",
    "h5 = result[:,0]\n",
    "Ac5 = result[:,1]\n",
    "\n",
    "result = odeint(dh_Ac_dt, initialpara, time, args=(R, Z, Ar, L[5]))\n",
    "h6 = result[:,0]\n",
    "Ac6 = result[:,1]\n",
    "\n",
    "figure(figsize=(15,4))\n",
    "plot(t,h1); title('Hydraulic head in the moulin'); ylabel('[m]'); xlabel('Day'); grid()\n",
    "plot(t,h2); title('Hydraulic head in the moulin'); ylabel('[m]'); xlabel('Day'); grid()\n",
    "plot(t,h3); title('Hydraulic head in the moulin'); ylabel('[m]'); xlabel('Day'); grid()\n",
    "plot(t,h4); title('Hydraulic head in the moulin'); ylabel('[m]'); xlabel('Day'); grid()\n",
    "plot(t,h5); title('Hydraulic head in the moulin'); ylabel('[m]'); xlabel('Day'); grid()\n",
    "plot(t,h6); title('Hydraulic head in the moulin'); ylabel('[m]'); xlabel('Day'); grid()\n",
    "legend(['L=' + str(L[0]),'L=' + str(L[1]), 'L=' + str(L[2]), 'L=' + str(L[3]), 'L=' + str(L[4]), 'L=' + str(L[5])])\n",
    "savefig('Moulin_ConduitLength.pdf')\n",
    "print 'Moulin radius = ' + str(r)\n",
    "#print 'Conduit length = ' + str(L)\n",
    "print 'Recharge = ' + str(R)\n",
    "print 'Ice thickness = ' + str(Z)"
   ]
  },
  {
   "cell_type": "code",
   "execution_count": null,
   "metadata": {
    "collapsed": true
   },
   "outputs": [],
   "source": [
    "#subplots\n",
    "f, ((ax1, ax2), (ax3, ax4)) = plt.subplots(2, 2, sharex='col', sharey='row')\n",
    "ax1.plot(x, y)\n",
    "ax1.set_title('Sharing x per column, y per row')\n",
    "ax2.scatter(x, y)\n",
    "ax3.scatter(x, 2 * y ** 2 - 1, color='r')\n",
    "ax4.plot(x, 2 * y ** 2 - 1, color='r')"
   ]
  },
  {
   "cell_type": "code",
   "execution_count": null,
   "metadata": {
    "collapsed": true
   },
   "outputs": [],
   "source": []
  }
 ],
 "metadata": {
  "anaconda-cloud": {},
  "kernelspec": {
   "display_name": "Python 2",
   "language": "python",
   "name": "python2"
  },
  "language_info": {
   "codemirror_mode": {
    "name": "ipython",
    "version": 2
   },
   "file_extension": ".py",
   "mimetype": "text/x-python",
   "name": "python",
   "nbconvert_exporter": "python",
   "pygments_lexer": "ipython2",
   "version": "2.7.13"
  }
 },
 "nbformat": 4,
 "nbformat_minor": 1
}
