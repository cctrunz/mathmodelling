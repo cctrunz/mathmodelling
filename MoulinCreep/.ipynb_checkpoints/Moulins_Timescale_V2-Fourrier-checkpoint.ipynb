{
 "cells": [
  {
   "cell_type": "markdown",
   "metadata": {
    "collapsed": true
   },
   "source": [
    "# MOULIN'S WATER LEVEL TIMESCALE FLUCTUATIONS\n",
    "\n",
    "\n",
    "    1.Reservoir-constriction equation from eq(5a)&(5b)\n",
    "    2.Creep equation from eq(6) in Covington(2012)-> derived from Spring&Hutter(1981), \n",
    "    and also used in Arnold et al.(1998) model\n",
    "    \n",
    "![title](SketchMoulin.png)\n",
    "\n",
    "    Constants:\n",
    "    g = 9.81 m/s2\n",
    "    \n",
    "    Fixed variables:\n",
    "    R \n",
    "    \n",
    "    "
   ]
  },
  {
   "cell_type": "code",
   "execution_count": 2,
   "metadata": {},
   "outputs": [
    {
     "name": "stdout",
     "output_type": "stream",
     "text": [
      "Using matplotlib backend: MacOSX\n",
      "Populating the interactive namespace from numpy and matplotlib\n"
     ]
    }
   ],
   "source": [
    "%pylab\n",
    "from scipy.integrate import odeint\n",
    "from scipy import signal\n",
    "import matplotlib.pyplot as plt\n",
    "#import numpy as np"
   ]
  },
  {
   "cell_type": "code",
   "execution_count": 3,
   "metadata": {
    "collapsed": true
   },
   "outputs": [],
   "source": [
    "# RESERVOIR-CONSTRICTION\n",
    "########################\n",
    "\n",
    "# Constant:\n",
    "g = 9.81 #m/s2\n",
    "Lf = 3.34*10.**5 # J/kg\n",
    "n = 3. # Unitless, ice flow law exponent\n",
    "B = 5.8*10.**7 # N/m^2*s, Arrhenius parameter\n",
    "rhow = 1000. # kg/m^3, density of water\n",
    "rhoi = 900. # kg/m^3, density of ice\n",
    "ff = 0.1 #unitless\n",
    "\n",
    "\n",
    "def dh_Ac_dt(parameter, time, Recharge, Thickness, M_area, C_length):\n",
    "    Fh,FAc = parameter\n",
    "    D = sqrt(FAc*4./pi)\n",
    "    #FAc = pi*(D**2)/4.\n",
    "    Cf = 1. + ff*Thickness/D\n",
    "    Pwet = 2.*pi*D/2 # conduit wetted perimeter\n",
    "    Q = FAc*sqrt(2.*g*Fh/Cf)\n",
    "    Pw = rhow*g*Fh\n",
    "    Pi = rhoi*g*Thickness    \n",
    "    melt = (ff*rhow*Pwet*Q**3.)/(8.*rhoi*Lf*FAc**3.)\n",
    "    creep = 2.*(1./(n*B)**n)*FAc*(Pi-Pw)*abs(Pi-Pw)**(n-1.)\n",
    "    return (Recharge-Q)/M_area, melt-creep\n",
    "\n",
    "\n",
    "\n"
   ]
  },
  {
   "cell_type": "code",
   "execution_count": null,
   "metadata": {},
   "outputs": [],
   "source": [
    "# odeint simple\n",
    "R = array([1., 3., 6.]) #m^3/s\n",
    "Z = 1000. # m, thickness of the ice\n",
    "r = 5. # m, radius of the moulin\n",
    "Ar = pi*r**2. # m^2\n",
    "L = 1000. #m\n",
    "Days = 10     ; duration = Days*24*3600; tstep = duration/100; time = linspace(0,duration,tstep)\n",
    "initialpara=[200.,0.1]\n",
    "t = time/(24*3600) # from seconds to days\n",
    "\n",
    "\n",
    "result = odeint(dh_Ac_dt, initialpara, time, args=(R[0], Z, Ar, L))\n",
    "h1 = result[:,0]\n",
    "Ac1 = result[:,1]\n",
    "print h1"
   ]
  },
  {
   "cell_type": "code",
   "execution_count": null,
   "metadata": {},
   "outputs": [],
   "source": [
    "# Odeint with a loop of parameters\n",
    "R = array([1.,2.,3.,4.,5.,6.,7.,8.,9.,10.]) #m^3/s\n",
    "Z = array([100.,200.,300.,400.,500.,600.,700.,800.,900.,1000.]) # m, thickness of the ice\n",
    "r = array([1.,2.,3.,4.,5.,6.,7.,8.,9.,10.]) # m, radius of the moulin\n",
    "L = 1000. #m\n",
    "Days = 1000.     ; duration = Days*24.*3600.; tstep = duration/100.; time = linspace(0,duration,tstep)\n",
    "initialpara=[200.,0.1]\n",
    "t = time/(24*3600) # from seconds to days\n",
    "tsc = np.zeros((10,10,10))\n",
    "for i in [0,1,2,3,4,5,6,7,8,9]:\n",
    "    for j in [0,1,2,3,4,5,6,7,8,9]:\n",
    "        for k in [0,1,2,3,4,5,6,7,8,9]:\n",
    "            #h=[]\n",
    "            Ar = pi*r[k]**2. # m^2\n",
    "            result = odeint(dh_Ac_dt, initialpara, time, args=(R[j], Z[i], Ar, L))\n",
    "            h = result[:,0]\n",
    "            Ac = result[:,1]\n",
    "            f, Pxx_den = signal.periodogram(h)\n",
    "            pic = f[Pxx_den.argmax()]\n",
    "            tsc[i][j][k]=1/pic*100/3600\n"
   ]
  },
  {
   "cell_type": "code",
   "execution_count": null,
   "metadata": {},
   "outputs": [],
   "source": [
    "tsc"
   ]
  },
  {
   "cell_type": "code",
   "execution_count": null,
   "metadata": {
    "collapsed": true
   },
   "outputs": [],
   "source": []
  },
  {
   "cell_type": "code",
   "execution_count": null,
   "metadata": {
    "collapsed": true
   },
   "outputs": [],
   "source": []
  },
  {
   "cell_type": "code",
   "execution_count": null,
   "metadata": {
    "collapsed": true
   },
   "outputs": [],
   "source": [
    "figure()\n",
    "f, Pxx_den = signal.periodogram(h)\n",
    "plt.semilogy(f, Pxx_den)\n",
    "plt.xlabel('frequency [Hz]')\n",
    "plt.ylabel('PSD [V**2/Hz]')\n",
    "plt.show()\n",
    "\n",
    "#figure(figsize=(15,4))\n",
    "figure()\n",
    "plot(t,h); title('Hydraulic head in the moulin'); ylabel('[m]'); xlabel('Day'); grid()\n",
    "#figure(figsize=(15,4))\n",
    "figure()\n",
    "plot(t,Ac); title('Conduit Diameter'); ylabel('[m]'); xlabel('Day'); grid()\n"
   ]
  },
  {
   "cell_type": "code",
   "execution_count": null,
   "metadata": {
    "collapsed": true
   },
   "outputs": [],
   "source": [
    "pic = f[Pxx_den.argmax()]  # Find the x value corresponding to the maximum y value\n",
    "print pic\n",
    "timescale=1/pic*100/3600\n",
    "print timescale"
   ]
  },
  {
   "cell_type": "code",
   "execution_count": null,
   "metadata": {
    "collapsed": true
   },
   "outputs": [],
   "source": [
    "figure(figsize=(15,4))\n",
    "plot(t,h); title('Hydraulic head in the moulin'); ylabel('[m]'); xlabel('Day'); grid()\n",
    "\n",
    "savefig('Moulin_HydraulicHead.pdf')\n",
    "figure(figsize=(15,4))\n",
    "plot(t,Dc); title('Conduit Diameter'); ylabel('[m]'); xlabel('Day'); grid()\n",
    "savefig('Moulin_ConduitDiameter.pdf')"
   ]
  },
  {
   "cell_type": "code",
   "execution_count": null,
   "metadata": {
    "collapsed": true
   },
   "outputs": [],
   "source": []
  },
  {
   "cell_type": "code",
   "execution_count": null,
   "metadata": {
    "collapsed": true
   },
   "outputs": [],
   "source": []
  }
 ],
 "metadata": {
  "anaconda-cloud": {},
  "kernelspec": {
   "display_name": "Python 2",
   "language": "python",
   "name": "python2"
  },
  "language_info": {
   "codemirror_mode": {
    "name": "ipython",
    "version": 2
   },
   "file_extension": ".py",
   "mimetype": "text/x-python",
   "name": "python",
   "nbconvert_exporter": "python",
   "pygments_lexer": "ipython2",
   "version": "2.7.13"
  }
 },
 "nbformat": 4,
 "nbformat_minor": 1
}
