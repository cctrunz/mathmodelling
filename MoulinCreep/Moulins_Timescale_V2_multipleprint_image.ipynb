{
 "cells": [
  {
   "cell_type": "markdown",
   "metadata": {
    "collapsed": true
   },
   "source": [
    "# MOULIN'S WATER LEVEL TIMESCALE FLUCTUATIONS\n",
    "\n",
    "\n",
    "    1.Reservoir-constriction equation from eq(5a)&(5b)\n",
    "    2.Creep equation from eq(6) in Covington(2012)-> derived from Spring&Hutter(1981), \n",
    "    and also used in Arnold et al.(1998) model\n",
    "    \n",
    "![title](SketchMoulin.png)\n",
    "\n",
    "    Constants:\n",
    "    g = 9.81 m/s2\n",
    "    \n",
    "    Fixed variables:\n",
    "    R \n",
    "    \n",
    "    "
   ]
  },
  {
   "cell_type": "code",
   "execution_count": 35,
   "metadata": {},
   "outputs": [
    {
     "name": "stdout",
     "output_type": "stream",
     "text": [
      "Using matplotlib backend: MacOSX\n",
      "Populating the interactive namespace from numpy and matplotlib\n"
     ]
    }
   ],
   "source": [
    "%pylab\n",
    "from scipy.integrate import odeint"
   ]
  },
  {
   "cell_type": "code",
   "execution_count": 47,
   "metadata": {
    "collapsed": true
   },
   "outputs": [],
   "source": [
    "# RESERVOIR-CONSTRICTION\n",
    "########################\n",
    "\n",
    "# Constant:\n",
    "g = 9.81 #m/s2\n",
    "Lf = 3.34*10.**5 # J/kg\n",
    "n = 3. # Unitless, ice flow law exponent\n",
    "B = 5.8*10.**7 # N/m^2*s, Arrhenius parameter\n",
    "rhow = 1000. # kg/m^3, density of water\n",
    "rhoi = 900. # kg/m^3, density of ice\n",
    "f = 0.1 #unitless\n",
    "\n",
    "\n",
    "def dh_Ac_dt(parameter, time, Recharge, Thickness, M_area, C_length):\n",
    "    Fh,FAc = parameter\n",
    "    D = sqrt(FAc*4./pi)\n",
    "    #FAc = pi*(D**2)/4.\n",
    "    Cf = 1. + f*Thickness/D\n",
    "    Pwet = 2.*pi*D/2 # conduit wetted perimeter\n",
    "    Q = FAc*sqrt(2.*g*Fh/Cf)\n",
    "    Pw = rhow*g*Fh\n",
    "    Pi = rhoi*g*Thickness    \n",
    "    melt = (f*rhow*Pwet*Q**3.)/(8.*rhoi*Lf*FAc**3.)\n",
    "    creep = 2.*(1./(n*B)**n)*FAc*(Pi-Pw)*abs(Pi-Pw)**(n-1.)\n",
    "    return (Recharge-Q)/M_area, melt-creep\n",
    "\n",
    "\n",
    "\n"
   ]
  },
  {
   "cell_type": "code",
   "execution_count": 51,
   "metadata": {},
   "outputs": [],
   "source": [
    "# head and conduit\n",
    "\n",
    "for i in [1,2,3,4,5,7,10]:\n",
    "    R = i #2. #m^3/s\n",
    "    Z = 500. # m, thickness of the ice\n",
    "    r = 10. # m, radius of the moulin\n",
    "    Ar = pi*r**2. # m^2\n",
    "    L = 1000. #m\n",
    "    Days = 10     ; duration = Days*24*3600; tstep = duration/100; time = linspace(0,duration,tstep)\n",
    "    initialpara=[320.,0.65]\n",
    "    t = time/(24*3600) # from seconds to days\n",
    "\n",
    "    result = odeint(dh_Ac_dt, initialpara, time, args=(R, Z, Ar, L))\n",
    "    h = result[:,0]\n",
    "    Ac = result[:,1]\n",
    "    Dc = sqrt(Ac/pi)*2\n",
    "\n",
    "    figure(figsize=(15,4))\n",
    "    plot(t,h); title('Hydraulic head in the moulin'); ylabel('[m]'); xlabel('Day'); grid(); ylim([0,800])\n",
    "    savefig('./Figure/Head-%d-%d-%d.pdf' % (R,Z,r))\n",
    "\n",
    "    figure(figsize=(15,4))\n",
    "    plot(t,Dc); title('Conduit Diameter'); ylabel('[m]'); xlabel('Day'); grid(); ylim([0,2])\n",
    "    savefig('./Figure/Conduit-%d-%d-%d.pdf' % (R,Z,r))"
   ]
  },
  {
   "cell_type": "code",
   "execution_count": null,
   "metadata": {
    "collapsed": true
   },
   "outputs": [],
   "source": []
  }
 ],
 "metadata": {
  "anaconda-cloud": {},
  "kernelspec": {
   "display_name": "Python 2",
   "language": "python",
   "name": "python2"
  },
  "language_info": {
   "codemirror_mode": {
    "name": "ipython",
    "version": 2
   },
   "file_extension": ".py",
   "mimetype": "text/x-python",
   "name": "python",
   "nbconvert_exporter": "python",
   "pygments_lexer": "ipython2",
   "version": "2.7.13"
  }
 },
 "nbformat": 4,
 "nbformat_minor": 1
}
