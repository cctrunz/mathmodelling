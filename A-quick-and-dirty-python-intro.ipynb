{
 "cells": [
  {
   "cell_type": "markdown",
   "metadata": {},
   "source": [
    "This format is called an ipython notebook. It conveniently allows us to put together blocks of text, python code, and plots. We will use this for many of our exercises. However, we will also work with plain python text files, which are a more appropriate way to develop larger codes. The notebook particularly excels at quick analysis where we want to combine coding with plots and notes on interpretation."
   ]
  },
  {
   "cell_type": "code",
   "execution_count": 1,
   "metadata": {},
   "outputs": [
    {
     "name": "stdout",
     "output_type": "stream",
     "text": [
      "Populating the interactive namespace from numpy and matplotlib\n"
     ]
    }
   ],
   "source": [
    "%pylab inline\n",
    "#This command imports much of the functionality we'll use. \n",
    "#Later on, we'll learn to import more sparingly.\n",
    "#The inline option makes plots appear inline with our code."
   ]
  },
  {
   "cell_type": "markdown",
   "metadata": {},
   "source": [
    "### Arrays"
   ]
  },
  {
   "cell_type": "markdown",
   "metadata": {},
   "source": [
    "Arrays are lists of numbers within a certain structure, much like a matrix. They can have one dimension (like a row or column matrix) or more dimensions (e.g. a 2D rectangular matrix). "
   ]
  },
  {
   "cell_type": "code",
   "execution_count": 2,
   "metadata": {
    "collapsed": true
   },
   "outputs": [],
   "source": [
    "#You can create an array like this\n",
    "a = array([1,3,2,7,5,7,54])"
   ]
  },
  {
   "cell_type": "code",
   "execution_count": 3,
   "metadata": {},
   "outputs": [
    {
     "name": "stdout",
     "output_type": "stream",
     "text": [
      "[ 1  3  2  7  5  7 54]\n"
     ]
    }
   ],
   "source": [
    "print a"
   ]
  },
  {
   "cell_type": "code",
   "execution_count": 4,
   "metadata": {},
   "outputs": [
    {
     "name": "stdout",
     "output_type": "stream",
     "text": [
      "[[1 2 3]\n",
      " [6 2 4]\n",
      " [7 4 8]]\n"
     ]
    }
   ],
   "source": [
    "#2D array\n",
    "b = array([[1,2,3],[6,2,4],[7,4,8]])\n",
    "print b"
   ]
  },
  {
   "cell_type": "code",
   "execution_count": 5,
   "metadata": {},
   "outputs": [
    {
     "name": "stdout",
     "output_type": "stream",
     "text": [
      "[   1    9    4   49   25   49 2916]\n"
     ]
    }
   ],
   "source": [
    "#You can also do arithmetic with arrays\n",
    "c = a*a\n",
    "print c"
   ]
  },
  {
   "cell_type": "code",
   "execution_count": 6,
   "metadata": {},
   "outputs": [
    {
     "name": "stdout",
     "output_type": "stream",
     "text": [
      "[   3.    9.    6.   21.   15.   21.  162.]\n"
     ]
    }
   ],
   "source": [
    "d = 3.0*a\n",
    "print d"
   ]
  },
  {
   "cell_type": "markdown",
   "metadata": {},
   "source": [
    "### Array Creation"
   ]
  },
  {
   "cell_type": "markdown",
   "metadata": {},
   "source": [
    "There are several convenience functions for creating different types of arrays."
   ]
  },
  {
   "cell_type": "code",
   "execution_count": 7,
   "metadata": {},
   "outputs": [
    {
     "name": "stdout",
     "output_type": "stream",
     "text": [
      "[0 1 2 3 4 5 6 7 8 9]\n"
     ]
    }
   ],
   "source": [
    "#An array of integers\n",
    "a = arange(10)\n",
    "print a"
   ]
  },
  {
   "cell_type": "code",
   "execution_count": 9,
   "metadata": {},
   "outputs": [
    {
     "name": "stdout",
     "output_type": "stream",
     "text": [
      "[ 0.  0.  0.  0.  0.  0.  0.  0.  0.  0.  0.  0.  0.  0.  0.]\n"
     ]
    }
   ],
   "source": [
    "#An array of zeros\n",
    "b = zeros(15)\n",
    "print b"
   ]
  },
  {
   "cell_type": "code",
   "execution_count": 10,
   "metadata": {},
   "outputs": [
    {
     "name": "stdout",
     "output_type": "stream",
     "text": [
      "[ 0.          0.14285714  0.28571429  0.42857143  0.57142857  0.71428571\n",
      "  0.85714286  1.          1.14285714  1.28571429  1.42857143  1.57142857\n",
      "  1.71428571  1.85714286  2.        ]\n"
     ]
    }
   ],
   "source": [
    "#An array with 15 elements from 0 to 2\n",
    "x = linspace(0,2,15)\n",
    "print x"
   ]
  },
  {
   "cell_type": "markdown",
   "metadata": {},
   "source": [
    "### Array access"
   ]
  },
  {
   "cell_type": "code",
   "execution_count": 11,
   "metadata": {},
   "outputs": [
    {
     "name": "stdout",
     "output_type": "stream",
     "text": [
      "0.0\n",
      "0.571428571429\n"
     ]
    }
   ],
   "source": [
    "#You can access elements of an array using [i], where i is a number called an index.\n",
    "#The first element is referenced with a 0.\n",
    "#The second with a 1, etc.\n",
    "\n",
    "print x[0]\n",
    "print x[4]"
   ]
  },
  {
   "cell_type": "code",
   "execution_count": 12,
   "metadata": {},
   "outputs": [
    {
     "name": "stdout",
     "output_type": "stream",
     "text": [
      "[  0.          50.           0.28571429   0.42857143   0.57142857\n",
      "   0.71428571   0.85714286   1.           1.14285714   1.28571429\n",
      "   1.42857143   1.57142857   1.71428571   1.85714286   2.        ]\n"
     ]
    }
   ],
   "source": [
    "#You can also assign a value using an index\n",
    "x[1] = 50\n",
    "print x"
   ]
  },
  {
   "cell_type": "code",
   "execution_count": 13,
   "metadata": {},
   "outputs": [
    {
     "name": "stdout",
     "output_type": "stream",
     "text": [
      "[ 0.28571429  0.42857143]\n"
     ]
    }
   ],
   "source": [
    "#You can access several elements of an array using what's called a slice\n",
    "print x[2:4] #Note that the second index in the range is excluded from the slice\n",
    "# item 3 and 4, 2 is not inclusive"
   ]
  },
  {
   "cell_type": "code",
   "execution_count": null,
   "metadata": {
    "collapsed": true
   },
   "outputs": [],
   "source": [
    "#They can also be open-ended\n",
    "print x[10:]\n",
    "# starts at the 11th item"
   ]
  },
  {
   "cell_type": "code",
   "execution_count": 14,
   "metadata": {},
   "outputs": [
    {
     "name": "stdout",
     "output_type": "stream",
     "text": [
      "[  0.          50.           0.28571429]\n"
     ]
    }
   ],
   "source": [
    "print x[:3] # x[-1] will be the last item on the list"
   ]
  },
  {
   "cell_type": "markdown",
   "metadata": {},
   "source": [
    "### Plotting"
   ]
  },
  {
   "cell_type": "code",
   "execution_count": 15,
   "metadata": {},
   "outputs": [
    {
     "data": {
      "text/plain": [
       "<matplotlib.text.Text at 0x7d8bd68>"
      ]
     },
     "execution_count": 15,
     "metadata": {},
     "output_type": "execute_result"
    },
    {
     "data": {
      "image/png": "[encoded data removed]",
      "text/plain": [
       "<matplotlib.figure.Figure at 0x7d4ecf8>"
      ]
     },
     "metadata": {},
     "output_type": "display_data"
    }
   ],
   "source": [
    "#It's easy to make plots in python\n",
    "\n",
    "#First, we'll create an x array from 0 to 4*pi with 50 elements\n",
    "x = linspace(0,4*pi,50)\n",
    "#Then we can calculate y according to the function we want to display\n",
    "y = sin(x)\n",
    "#Plotting is as easy as this\n",
    "plot(x,y)\n",
    "#We can add labels like this\n",
    "xlabel('x')\n",
    "ylabel('y')"
   ]
  },
  {
   "cell_type": "markdown",
   "metadata": {},
   "source": [
    "### For loops"
   ]
  },
  {
   "cell_type": "markdown",
   "metadata": {},
   "source": [
    "For loops are one of the most common code structures used in numerical modeling. They allow us to loop repeatedly through the same lines of code."
   ]
  },
  {
   "cell_type": "code",
   "execution_count": 16,
   "metadata": {},
   "outputs": [
    {
     "name": "stdout",
     "output_type": "stream",
     "text": [
      "0.0\n",
      "0.10101010101\n",
      "0.20202020202\n",
      "0.30303030303\n",
      "0.40404040404\n",
      "0.505050505051\n",
      "0.606060606061\n",
      "0.707070707071\n",
      "0.808080808081\n",
      "0.909090909091\n",
      "1.0101010101\n",
      "1.11111111111\n",
      "1.21212121212\n",
      "1.31313131313\n",
      "1.41414141414\n",
      "1.51515151515\n",
      "1.61616161616\n",
      "1.71717171717\n",
      "1.81818181818\n",
      "1.91919191919\n",
      "2.0202020202\n",
      "2.12121212121\n",
      "2.22222222222\n",
      "2.32323232323\n",
      "2.42424242424\n",
      "2.52525252525\n",
      "2.62626262626\n",
      "2.72727272727\n",
      "2.82828282828\n",
      "2.92929292929\n",
      "3.0303030303\n",
      "3.13131313131\n",
      "3.23232323232\n",
      "3.33333333333\n",
      "3.43434343434\n",
      "3.53535353535\n",
      "3.63636363636\n",
      "3.73737373737\n",
      "3.83838383838\n",
      "3.93939393939\n",
      "4.0404040404\n",
      "4.14141414141\n",
      "4.24242424242\n",
      "4.34343434343\n",
      "4.44444444444\n",
      "4.54545454545\n",
      "4.64646464646\n",
      "4.74747474747\n",
      "4.84848484848\n",
      "4.94949494949\n",
      "5.05050505051\n",
      "5.15151515152\n",
      "5.25252525253\n",
      "5.35353535354\n",
      "5.45454545455\n",
      "5.55555555556\n",
      "5.65656565657\n",
      "5.75757575758\n",
      "5.85858585859\n",
      "5.9595959596\n",
      "6.06060606061\n",
      "6.16161616162\n",
      "6.26262626263\n",
      "6.36363636364\n",
      "6.46464646465\n",
      "6.56565656566\n",
      "6.66666666667\n",
      "6.76767676768\n",
      "6.86868686869\n",
      "6.9696969697\n",
      "7.07070707071\n",
      "7.17171717172\n",
      "7.27272727273\n",
      "7.37373737374\n",
      "7.47474747475\n",
      "7.57575757576\n",
      "7.67676767677\n",
      "7.77777777778\n",
      "7.87878787879\n",
      "7.9797979798\n",
      "8.08080808081\n",
      "8.18181818182\n",
      "8.28282828283\n",
      "8.38383838384\n",
      "8.48484848485\n",
      "8.58585858586\n",
      "8.68686868687\n",
      "8.78787878788\n",
      "8.88888888889\n",
      "8.9898989899\n",
      "9.09090909091\n",
      "9.19191919192\n",
      "9.29292929293\n",
      "9.39393939394\n",
      "9.49494949495\n",
      "9.59595959596\n",
      "9.69696969697\n",
      "9.79797979798\n",
      "9.89898989899\n",
      "10.0\n"
     ]
    }
   ],
   "source": [
    "t = linspace(0,10,100)\n",
    "for time in t:\n",
    "    print time\n",
    "    #The program goes once through the loop for every element of the array t.\n",
    "    #Each time through the loop it updates the variable time to be equal to\n",
    "    #the next element in the array t. Here we just print out time, but we\n",
    "    #could do something more interesting."
   ]
  },
  {
   "cell_type": "code",
   "execution_count": null,
   "metadata": {
    "collapsed": true
   },
   "outputs": [],
   "source": [
    "print t"
   ]
  }
 ],
 "metadata": {
  "anaconda-cloud": {},
  "kernelspec": {
   "display_name": "Python 2",
   "language": "python",
   "name": "python2"
  },
  "language_info": {
   "codemirror_mode": {
    "name": "ipython",
    "version": 2
   },
   "file_extension": ".py",
   "mimetype": "text/x-python",
   "name": "python",
   "nbconvert_exporter": "python",
   "pygments_lexer": "ipython2",
   "version": "2.7.13"
  }
 },
 "nbformat": 4,
 "nbformat_minor": 1
}
