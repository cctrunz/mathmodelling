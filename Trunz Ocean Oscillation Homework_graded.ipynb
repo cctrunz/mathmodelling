{
 "cells": [
  {
   "cell_type": "code",
   "execution_count": 58,
   "metadata": {
    "collapsed": true
   },
   "outputs": [],
   "source": [
    "# Shoreline position oscillation for different timescales\n",
    "# From Matt Covington for Mathematical modeling, modify by Celia Trunz"
   ]
  },
  {
   "cell_type": "code",
   "execution_count": 63,
   "metadata": {},
   "outputs": [
    {
     "name": "stdout",
     "output_type": "stream",
     "text": [
      "Populating the interactive namespace from numpy and matplotlib\n"
     ]
    }
   ],
   "source": [
    "#for python notebook (in Jupyter)\n",
    "%pylab inline\n",
    "from scipy.integrate import odeint\n",
    "\n",
    "#for python file (in spider)\n",
    "# from pylab import * "
   ]
  },
  {
   "cell_type": "code",
   "execution_count": null,
   "metadata": {
    "collapsed": true
   },
   "outputs": [],
   "source": [
    "#Define parameters \n",
    "R_SS = 2.5*10.**-5 #Subsidence rate in m/yr\n",
    "slope = 1./5000.\n",
    "P1 = 2*10.**4 #Period of sea level oscillations in years for shorter glacial-interglacial cycles\n",
    "P2 = 10.**5   #Period of sea level oscillations in years for longer glacial-interglacial cycles\n",
    "P3 = 10.**8   #Period of sea level oscillations in years for long cycles\n",
    "omega1 = 2.*pi/P1 #angular frequency\n",
    "omega2 = 2.*pi/P2 #angular frequency\n",
    "omega3 = 2.*pi/P3 #angular frequency\n",
    "D = 2.5 *10**5 #m\n",
    "Psi1 = R_SS/(slope*D*omega1)\n",
    "Psi2 = R_SS/(slope*D*omega2)\n",
    "Psi3 = R_SS/(slope*D*omega3)\n",
    "\n",
    "#Define formula for the oscillation    \n",
    "def dx_dt(xi, ti, Psi):\n",
    "    return -2.*pi*sin(2.*pi*ti) - 2.*pi*Psi*xi\n",
    "\n",
    "##Define timestep and number of steps\n",
    "dt = 0.03\n",
    "nsteps = 150\n",
    "x1 = zeros(nsteps+1)\n",
    "x2 = zeros(nsteps+1)\n",
    "x3 = zeros(nsteps+1)\n",
    "x1[0] = 1./(Psi1**2.+1) #0.\n",
    "x2[0] = 1./(Psi2**2.+1) #0.\n",
    "x3[0] = 1./(Psi3**2.+1) #0.\n",
    "t = arange(nsteps+1)*dt\n",
    "\n",
    "# \n",
    "x1_ode = odeint(dx_dt, x1[0], t, args=(Psi1,))\n",
    "x2_ode = odeint(dx_dt, x2[0], t, args=(Psi2,))\n",
    "x3_ode = odeint(dx_dt, x3[0], t, args=(Psi3,))\n",
    "\n",
    "y_sl = 0.5*cos(2.*pi*t)\n",
    "\n",
    "figure()\n",
    "plot(t, x1_ode,'g')\n",
    "plot(t, x2_ode,'k.')\n",
    "plot(t, x3_ode,'r')\n",
    "plot(t,x1_ode+x3_ode,'m--')#Can't just add\n",
    "plot(t, y_sl,'b--')\n",
    "legend(['20,000 years', '100,000 years','100,000,000 years','20,000+100,000,000 years','Sea level'])\n",
    "xlabel('Time')\n",
    "ylabel('Shoreline position')\n",
    "\n",
    "# Question 2\n",
    "# We can see that for shorter periods of oscillations, the position of the shoreline \n",
    "# has bigger variation than for longer timescale. \n",
    "# also, when the timescale is smaller, it get's align with the sea level. \n",
    "# And very long period of time tend to give less variation of the position of the shoreline.\n",
    "# Psi is the ration between the shelf and the oscillation timescale. So, when the periode is bigger, the numerator\n",
    "# get smaller and the amplitude gets bigger.\n",
    "\n",
    "#10/10\n",
    "\n",
    "# Question 3\n",
    "# When you add the two timescale, the result is mainly driven by the shorter timescale \n",
    "# oscillation and is lightly shifted.\n",
    "\n",
    "#2/5\n",
    "\n",
    "\n"
   ]
  },
  {
   "cell_type": "code",
   "execution_count": null,
   "metadata": {
    "collapsed": true
   },
   "outputs": [],
   "source": [
    "# Correction question 3:\n",
    "# il n'était pas possible d'additionner les différentes solutions, car tstar n'a pas le même sense."
   ]
  }
 ],
 "metadata": {
  "kernelspec": {
   "display_name": "Python 2",
   "language": "python",
   "name": "python2"
  },
  "language_info": {
   "codemirror_mode": {
    "name": "ipython",
    "version": 2
   },
   "file_extension": ".py",
   "mimetype": "text/x-python",
   "name": "python",
   "nbconvert_exporter": "python",
   "pygments_lexer": "ipython2",
   "version": "2.7.13"
  }
 },
 "nbformat": 4,
 "nbformat_minor": 2
}
