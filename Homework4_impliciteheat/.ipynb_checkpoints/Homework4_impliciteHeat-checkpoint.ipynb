{
 "cells": [
  {
   "cell_type": "code",
   "execution_count": 4,
   "metadata": {},
   "outputs": [
    {
     "name": "stdout",
     "output_type": "stream",
     "text": [
      "Populating the interactive namespace from numpy and matplotlib\n"
     ]
    }
   ],
   "source": [
    "%pylab inline"
   ]
  },
  {
   "cell_type": "markdown",
   "metadata": {},
   "source": [
    "    with this way of solving, we can have a fourier number bigger and our solution stays stable."
   ]
  },
  {
   "cell_type": "code",
   "execution_count": 5,
   "metadata": {
    "collapsed": true
   },
   "outputs": [],
   "source": [
    "from scipy.linalg import solve_banded\n",
    "from scipy.special import erf\n",
    "\n",
    "#create temperature array\n",
    "ntimes = 100 # nombre de pas de temps\n",
    "nx = 100 # nombre de nodes\n",
    "Fo = 0.5\n",
    "T = zeros([ntimes,nx]) # creates an matrix de zero\n",
    "T[0,:] = 1. # first line \n",
    "T_top = 0. # boundaries\n",
    "T_bottom = 1. # boundaries\n",
    "\n",
    "##create matrix A, banded matrix\n",
    "################################\n",
    "# (-2 is because we don't want to make the calculation on the boundaries)\n",
    "    # first line\n",
    "A_upper = (-Fo/2)*ones(nx-2) # vector of 3 values the same\n",
    "A_upper[0] = 0. # transform the first value in 0\n",
    "    # second line\n",
    "A_mid = (1.+Fo)*ones(nx-2) # vector of 3 values the same\n",
    "    # third line\n",
    "A_lower = (-Fo/2)*ones(nx-2) # vector of 3 values the same\n",
    "A_lower[-1] = 0. # transform the last value in 0\n",
    "    # creation of the matrice with the 3 vectores\n",
    "A = vstack((A_upper,A_mid,A_lower))\n",
    "\n",
    "## Writing the 3 equations\n",
    "##########################\n",
    "for n in arange(ntimes-1):\n",
    "    \n",
    "    b = array(T[n,1:-1]) # to just have the internal nodes\n",
    "    b[0] += Fo/2*T_top # += is like b[0]=b[0]+...\n",
    "    b[-1] += Fo/2*T_bottom\n",
    "    \n",
    "    T[n+1,1:-1] = solve_banded((1,1),A,b) # how many upperband, how many lowerband, A, b\n",
    "    T[n+1,0] = T_top\n",
    "    T[n+1,-1] = T_bottom\n",
    "#create matrix b"
   ]
  },
  {
   "cell_type": "code",
   "execution_count": 6,
   "metadata": {},
   "outputs": [
    {
     "data": {
      "text/plain": [
       "[<matplotlib.lines.Line2D at 0x105718250>]"
      ]
     },
     "execution_count": 6,
     "metadata": {},
     "output_type": "execute_result"
    },
    {
     "data": {
      "image/png": "[encoded data removed]",
      "text/plain": [
       "<matplotlib.figure.Figure at 0x10f8d8b50>"
      ]
     },
     "metadata": {},
     "output_type": "display_data"
    }
   ],
   "source": [
    "plot(T[5,:])\n",
    "T50 = erf(sqrt(arange(nx)**2/(4*50*Fo))) # this is the analytical solution\n",
    "plot(T50, 'k--')"
   ]
  },
  {
   "cell_type": "code",
   "execution_count": 7,
   "metadata": {},
   "outputs": [
    {
     "name": "stdout",
     "output_type": "stream",
     "text": [
      "[ 0.11412439  0.22589609  0.33310941  0.43383719  0.52653372  0.61009998\n",
      "  0.68390751  0.74778241  0.80195581  0.84698998  0.88369117  0.91301957\n",
      "  0.93600545  0.95367799  0.96701034  0.97688209  0.98405797  0.98918028\n",
      "  0.99277185  0.99524617  0.99692149  0.99803667  0.99876665  0.99923668\n",
      "  0.99953447  0.99972017  0.99983418  0.99990311  0.99994417  0.99996826\n",
      "  0.9999822   0.99999014  0.99999461  0.99999709  0.99999845  0.99999919\n",
      "  0.99999958  0.99999978  0.99999989  0.99999994  0.99999997  0.99999999\n",
      "  0.99999999  1.          1.          1.          1.          1.          1.\n",
      "  1.          1.          1.          1.          1.          1.\n",
      "  1.00000001  1.00000001  1.00000003  1.00000006  1.00000011  1.00000022\n",
      "  1.00000042  1.00000081  1.00000155  1.00000291  1.00000539  1.00000986\n",
      "  1.0000178   1.00003174  1.00005583  1.00009689  1.00016582  1.00027983\n",
      "  1.00046553  1.00076332  1.00123335  1.00196333  1.00307851  1.00475383\n",
      "  1.00722815  1.01081972  1.01594203  1.02311791  1.03298966  1.04632201\n",
      "  1.06399455  1.08698043  1.11630883  1.15301002  1.19804419  1.25221759\n",
      "  1.31609249  1.38990002  1.47346628  1.56616281  1.66689059  1.77410391\n",
      "  2.38587561]\n"
     ]
    }
   ],
   "source": [
    "print b"
   ]
  },
  {
   "cell_type": "code",
   "execution_count": null,
   "metadata": {
    "collapsed": true
   },
   "outputs": [],
   "source": []
  }
 ],
 "metadata": {
  "kernelspec": {
   "display_name": "Python 2",
   "language": "python",
   "name": "python2"
  },
  "language_info": {
   "codemirror_mode": {
    "name": "ipython",
    "version": 2
   },
   "file_extension": ".py",
   "mimetype": "text/x-python",
   "name": "python",
   "nbconvert_exporter": "python",
   "pygments_lexer": "ipython2",
   "version": "2.7.13"
  }
 },
 "nbformat": 4,
 "nbformat_minor": 2
}
