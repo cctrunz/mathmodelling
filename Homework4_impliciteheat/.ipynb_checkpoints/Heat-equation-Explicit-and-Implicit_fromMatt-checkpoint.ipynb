{
 "cells": [
  {
   "cell_type": "code",
   "execution_count": 1,
   "metadata": {},
   "outputs": [
    {
     "name": "stdout",
     "output_type": "stream",
     "text": [
      "Populating the interactive namespace from numpy and matplotlib\n"
     ]
    }
   ],
   "source": [
    "%pylab inline\n",
    "from scipy.special import erf"
   ]
  },
  {
   "cell_type": "code",
   "execution_count": 2,
   "metadata": {
    "collapsed": true
   },
   "outputs": [],
   "source": [
    "#Explicit solution\n",
    "ntimes = 100\n",
    "nx = 100\n",
    "Fo = 0.5\n",
    "#create array of temps for all x and t\n",
    "T = zeros([ntimes,nx])\n",
    "#set initial condition\n",
    "T[0,:] = 1.\n",
    "T_top = 0.\n",
    "T_bottom = 1.\n",
    "for n in arange(ntimes-1):\n",
    "    T[n+1,0] = T_top\n",
    "    T[n+1,-1] = T_bottom\n",
    "    #print T[n,1:-1]\n",
    "    T[n+1,1:-1] = Fo*T[n,2:] + (1.-2*Fo)*T[n,1:-1] + Fo*T[n,0:-2]"
   ]
  },
  {
   "cell_type": "code",
   "execution_count": 3,
   "metadata": {},
   "outputs": [
    {
     "data": {
      "text/plain": [
       "[<matplotlib.lines.Line2D at 0x110ae1310>]"
      ]
     },
     "execution_count": 3,
     "metadata": {},
     "output_type": "execute_result"
    },
    {
     "data": {
      "image/png": "[encoded data removed]",
      "text/plain": [
       "<matplotlib.figure.Figure at 0x109389910>"
      ]
     },
     "metadata": {},
     "output_type": "display_data"
    }
   ],
   "source": [
    "figure()\n",
    "plot(T[50,:],lw=3)\n",
    "plot(arange(nx), erf(0.5*(sqrt(arange(nx)**2./(Fo*50)))), '--',lw=3)"
   ]
  },
  {
   "cell_type": "code",
   "execution_count": 4,
   "metadata": {
    "collapsed": true
   },
   "outputs": [],
   "source": [
    "#Implicit solution\n",
    "from scipy.linalg import solve_banded\n",
    "ntimes = 100\n",
    "nx = 500\n",
    "Fo = 2\n",
    "A_upper = -Fo*ones(nx-2)\n",
    "A_mid = (1.+2.*Fo)*ones(nx-2)\n",
    "A_lower = -Fo*ones(nx-2)\n",
    "A_upper[0] = 0.\n",
    "A_lower[-1] = 0.\n",
    "T = zeros([ntimes,nx])\n",
    "T[0,:]=1.\n",
    "T_top = 0.\n",
    "T_bottom = 1.\n",
    "A = vstack((A_upper, A_mid, A_lower))\n",
    "for n in arange(ntimes-1):\n",
    "    b = array(T[n,1:-1])\n",
    "    b[0] += Fo*T_top\n",
    "    b[-1] += Fo*T_bottom\n",
    "    T[n+1,1:-1] = solve_banded((1,1), A, b)\n",
    "    T[n+1,0] = T_top\n",
    "    T[n+1,-1] = T_bottom"
   ]
  },
  {
   "cell_type": "code",
   "execution_count": 5,
   "metadata": {},
   "outputs": [
    {
     "data": {
      "text/plain": [
       "[<matplotlib.lines.Line2D at 0x113f7b890>]"
      ]
     },
     "execution_count": 5,
     "metadata": {},
     "output_type": "execute_result"
    },
    {
     "data": {
      "image/png": "[encoded data removed]",
      "text/plain": [
       "<matplotlib.figure.Figure at 0x113f63fd0>"
      ]
     },
     "metadata": {},
     "output_type": "display_data"
    }
   ],
   "source": [
    "figure()\n",
    "plot(T[50,:],lw=3)\n",
    "plot(arange(nx), erf(0.5*(sqrt(arange(nx)**2./(Fo*99)))), '--',lw=3)"
   ]
  },
  {
   "cell_type": "code",
   "execution_count": null,
   "metadata": {
    "collapsed": true
   },
   "outputs": [],
   "source": []
  }
 ],
 "metadata": {
  "kernelspec": {
   "display_name": "Python 2",
   "language": "python",
   "name": "python2"
  },
  "language_info": {
   "codemirror_mode": {
    "name": "ipython",
    "version": 2
   },
   "file_extension": ".py",
   "mimetype": "text/x-python",
   "name": "python",
   "nbconvert_exporter": "python",
   "pygments_lexer": "ipython2",
   "version": "2.7.13"
  }
 },
 "nbformat": 4,
 "nbformat_minor": 1
}
