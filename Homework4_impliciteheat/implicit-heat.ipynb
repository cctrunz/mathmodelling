{
 "cells": [
  {
   "cell_type": "code",
   "execution_count": 5,
   "metadata": {},
   "outputs": [
    {
     "name": "stdout",
     "output_type": "stream",
     "text": [
      "Populating the interactive namespace from numpy and matplotlib\n"
     ]
    }
   ],
   "source": [
    "%pylab inline"
   ]
  },
  {
   "cell_type": "markdown",
   "metadata": {},
   "source": [
    "    with this way of solving, we can have a fourier number bigger and our solution stays stable."
   ]
  },
  {
   "cell_type": "code",
   "execution_count": 8,
   "metadata": {
    "collapsed": true
   },
   "outputs": [],
   "source": [
    "from scipy.linalg import solve_banded\n",
    "from scipy.special import erf\n",
    "\n",
    "#create temperature array\n",
    "ntimes = 100 # nombre de pas de temps\n",
    "nx = 100 # nombre de nodes\n",
    "Fo = 0.5\n",
    "T = zeros([ntimes,nx]) # creates an matrix de zero\n",
    "T[0,:] = 1. # first line \n",
    "T_top = 0. # boundaries\n",
    "T_bottom = 1. # boundaries\n",
    "# #create matrix A, banded matrix\n",
    "A_upper = -Fo*ones(nx-2) \n",
    "A_upper[0] = 0.\n",
    "A_mid = (1.+2.*Fo)*ones(nx-2)\n",
    "A_lower = -Fo*ones(nx-2) \n",
    "A_lower[-1] = 0.\n",
    "A = vstack((A_upper,A_mid,A_lower))\n",
    "for n in arange(ntimes-1):\n",
    "    b = T[n,1:-1] # to just have the internal nodes\n",
    "    b[0] += Fo*T_top # += is like b[0]=b[0]+...\n",
    "    b[-1] += Fo*T_bottom\n",
    "    T[n+1,1:-1] = solve_banded((1,1),A,b) # how many upperband, how many lowerband, A, b\n",
    "    T[n+1,0] = T_top\n",
    "    T[n+1,-1] = T_bottom\n",
    "#create matrix b"
   ]
  },
  {
   "cell_type": "code",
   "execution_count": 9,
   "metadata": {},
   "outputs": [
    {
     "data": {
      "text/plain": [
       "[<matplotlib.lines.Line2D at 0x118f18d50>]"
      ]
     },
     "execution_count": 9,
     "metadata": {},
     "output_type": "execute_result"
    },
    {
     "data": {
      "image/png": "[encoded data removed]",
      "text/plain": [
       "<matplotlib.figure.Figure at 0x1183a0a50>"
      ]
     },
     "metadata": {},
     "output_type": "display_data"
    }
   ],
   "source": [
    "plot(T[5,:])\n",
    "T50 = erf(sqrt(arange(nx)**2/(4*50*Fo))) # this is the analytical solution\n",
    "plot(T50, 'k--')"
   ]
  },
  {
   "cell_type": "code",
   "execution_count": null,
   "metadata": {
    "collapsed": true
   },
   "outputs": [],
   "source": []
  }
 ],
 "metadata": {
  "kernelspec": {
   "display_name": "Python 2",
   "language": "python",
   "name": "python2"
  },
  "language_info": {
   "codemirror_mode": {
    "name": "ipython",
    "version": 2
   },
   "file_extension": ".py",
   "mimetype": "text/x-python",
   "name": "python",
   "nbconvert_exporter": "python",
   "pygments_lexer": "ipython2",
   "version": "2.7.13"
  }
 },
 "nbformat": 4,
 "nbformat_minor": 2
}
