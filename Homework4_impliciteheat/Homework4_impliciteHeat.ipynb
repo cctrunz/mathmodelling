{
 "cells": [
  {
   "cell_type": "code",
   "execution_count": 44,
   "metadata": {},
   "outputs": [
    {
     "name": "stdout",
     "output_type": "stream",
     "text": [
      "Using matplotlib backend: MacOSX\n",
      "Populating the interactive namespace from numpy and matplotlib\n"
     ]
    }
   ],
   "source": [
    "%pylab"
   ]
  },
  {
   "cell_type": "markdown",
   "metadata": {},
   "source": [
    "    with this way of solving, we can have a fourier number bigger and our solution stays stable."
   ]
  },
  {
   "cell_type": "code",
   "execution_count": 50,
   "metadata": {},
   "outputs": [],
   "source": [
    "from scipy.linalg import solve_banded\n",
    "from scipy.special import erf\n",
    "\n",
    "#create temperature array\n",
    "ntimes = 1000000 # nombre de pas de temps\n",
    "nx = 100 # nombre de nodes\n",
    "Fo = 0.5\n",
    "T = zeros([ntimes,nx]) # creates an matrix de zero\n",
    "T[0,:] = 1. # first line \n",
    "T_top = 0. # boundaries\n",
    "T_bottom = 1. # boundaries\n",
    "\n",
    "##create matrix A, banded matrix\n",
    "################################\n",
    "# (-2 is because we don't want to make the calculation on the boundaries)\n",
    "    # first line\n",
    "A_upper = (-Fo/2)*ones(nx-2) # vector of 3 values the same\n",
    "A_upper[0] = 0. # transform the first value in 0\n",
    "    # second line\n",
    "A_mid = (1.+Fo)*ones(nx-2) # vector of 3 values the same\n",
    "    # third line\n",
    "A_lower = (-Fo/2)*ones(nx-2) # vector of 3 values the same\n",
    "A_lower[-1] = 0. # transform the last value in 0\n",
    "    # creation of the matrice with the 3 vectores\n",
    "A = vstack((A_upper,A_mid,A_lower))\n",
    "\n",
    "## Writing the 3 equations\n",
    "##########################\n",
    "for n in arange(ntimes-1):\n",
    "    # \n",
    "    b = array(T[n,1:-1]) + (Fo/2)*array(T[n,2:]) - Fo*array(T[n,1:-1]) + (Fo/2)*array(T[n,:-2])\n",
    "    temp = array(T[n,1:-1]) # to just have the internal nodes\n",
    "    b[0] = temp[0] + (Fo/2)*temp[1] - (Fo)*temp[0]+ (Fo/2)*T_top + (Fo/2)*T_top # += is like b[0]=b[0]+...\n",
    "    b[-1] = temp[-1] + (Fo/2)*T_bottom - (Fo)*temp[-1] + (Fo/2)*temp[-2] + (Fo/2)*T_bottom\n",
    "    \n",
    "    T[n+1,1:-1] = solve_banded((1,1),A,b) # how many upperband, how many lowerband, A, b\n",
    "    T[n+1,0] = T_top\n",
    "    T[n+1,-1] = T_bottom\n",
    "#create matrix b"
   ]
  },
  {
   "cell_type": "code",
   "execution_count": null,
   "metadata": {},
   "outputs": [],
   "source": [
    "figure()\n",
    "for n in arange(ntimes-1):\n",
    "    plot(T[n,:])\n",
    "T50 = erf(sqrt(arange(nx)**2/(4*50*Fo))) # this is the analytical solution\n",
    "plot(T50, 'k--')\n",
    "plot(arange(nx), erf(0.5*(sqrt(arange(nx)**2./(Fo*99)))), '--',lw=3)"
   ]
  },
  {
   "cell_type": "code",
   "execution_count": 39,
   "metadata": {},
   "outputs": [],
   "source": [
    "#Implicit solution\n",
    "from scipy.linalg import solve_banded\n",
    "ntimes = 100\n",
    "nx = 1000\n",
    "Fo = 2\n",
    "A_upper = -Fo*ones(nx-2)\n",
    "A_mid = (1.+2.*Fo)*ones(nx-2)\n",
    "A_lower = -Fo*ones(nx-2)\n",
    "A_upper[0] = 0.\n",
    "A_lower[-1] = 0.\n",
    "T = zeros([ntimes,nx])\n",
    "T[0,:]=1.\n",
    "T_top = 0.\n",
    "T_bottom = 1.\n",
    "A = vstack((A_upper, A_mid, A_lower))\n",
    "for n in arange(ntimes-1):\n",
    "    b = array(T[n,1:-1])\n",
    "    b[0] += Fo*T_top\n",
    "    b[-1] += Fo*T_bottom\n",
    "    T[n+1,1:-1] = solve_banded((1,1), A, b)\n",
    "    T[n+1,0] = T_top\n",
    "    T[n+1,-1] = T_bottom"
   ]
  },
  {
   "cell_type": "code",
   "execution_count": 40,
   "metadata": {},
   "outputs": [
    {
     "data": {
      "text/plain": [
       "[<matplotlib.lines.Line2D at 0x125c20f90>]"
      ]
     },
     "execution_count": 40,
     "metadata": {},
     "output_type": "execute_result"
    },
    {
     "data": {
      "image/png": "[encoded data removed]",
      "text/plain": [
       "<matplotlib.figure.Figure at 0x125c20a50>"
      ]
     },
     "metadata": {},
     "output_type": "display_data"
    }
   ],
   "source": [
    "figure()\n",
    "for n in arange(ntimes-1):\n",
    "    plot(T[n,:])\n",
    "T50 = erf(sqrt(arange(nx)**2/(4*50*Fo))) # this is the analytical solution\n",
    "plot(T50, 'k--')"
   ]
  },
  {
   "cell_type": "code",
   "execution_count": null,
   "metadata": {
    "collapsed": true
   },
   "outputs": [],
   "source": []
  }
 ],
 "metadata": {
  "kernelspec": {
   "display_name": "Python 2",
   "language": "python",
   "name": "python2"
  },
  "language_info": {
   "codemirror_mode": {
    "name": "ipython",
    "version": 2
   },
   "file_extension": ".py",
   "mimetype": "text/x-python",
   "name": "python",
   "nbconvert_exporter": "python",
   "pygments_lexer": "ipython2",
   "version": "2.7.13"
  }
 },
 "nbformat": 4,
 "nbformat_minor": 2
}
