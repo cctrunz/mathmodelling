{
 "cells": [
  {
   "cell_type": "markdown",
   "metadata": {},
   "source": [
    "# Running two or more components\n",
    "\n",
    "Now we're going to take a similar approach but this time combine the outputs of three distinct Landlab components: the diffuser, the monodirectional flow router, and the stream power incisor. For clarity, we're going to repeat the whole process from the start.\n",
    "\n",
    "So first, let's import everything we don't already have:"
   ]
  },
  {
   "cell_type": "code",
   "execution_count": 109,
   "metadata": {},
   "outputs": [
    {
     "name": "stdout",
     "output_type": "stream",
     "text": [
      "Using matplotlib backend: MacOSX\n"
     ]
    }
   ],
   "source": [
    "from landlab.components import LinearDiffuser\n",
    "from landlab.plot import imshow_grid\n",
    "from landlab import RasterModelGrid, CLOSED_BOUNDARY, FIXED_VALUE_BOUNDARY\n",
    "from matplotlib.pyplot import figure, show, plot, xlabel, ylabel, title\n",
    "import numpy as np\n",
    "\n",
    "from landlab.components import FlowRouter, FastscapeEroder\n",
    "from landlab import load_params\n",
    "\n",
    "# the following line makes figures show up correctly in this document (only needed for iPython notebook)\n",
    "#%matplotlib inline\n",
    "%matplotlib"
   ]
  },
  {
   "cell_type": "code",
   "execution_count": 115,
   "metadata": {},
   "outputs": [
    {
     "name": "stdout",
     "output_type": "stream",
     "text": [
      "Completed loop 0\n",
      "Completed loop 20\n",
      "Completed loop 40\n",
      "Completed loop 60\n",
      "Completed loop 80\n",
      "Completed loop 100\n",
      "Completed loop 120\n",
      "Completed loop 140\n",
      "Completed loop 160\n",
      "Completed loop 180\n"
     ]
    }
   ],
   "source": [
    "## Define parameters\n",
    "####################\n",
    "\n",
    "# Import parameters from a txt file\n",
    "input_file = './coupled_params_celia.txt'\n",
    "inputs = load_params(input_file) # load the data into a dictionary\n",
    "\n",
    "# Write paramter from txt file\n",
    "nrows = inputs['nrows'] # Nombre de ligne\n",
    "ncols = inputs['ncols'] # Nombre de colonne\n",
    "dx = inputs['dx'] # Espacement dans les deux directions [m]\n",
    "uplift_rate = inputs['uplift_rate'] #[m/s]\n",
    "total_t = inputs['total_time']\n",
    "dt = inputs['dt']\n",
    "\n",
    "#Set parameters for modelisation\n",
    "nt = int(total_t // dt) #this is how many loops we'll need\n",
    "uplift_per_step = uplift_rate * dt\n",
    "\n",
    "# Now instantiate the grid, set the initial conditions, and set the boundary conditions:\n",
    "mg = RasterModelGrid((nrows, ncols), dx)\n",
    "z = mg.add_zeros('node', 'topographic__elevation')\n",
    "# add some roughness, as this lets \"natural\" channel planforms arise\n",
    "initial_roughness = np.random.rand(z.size)/100000.\n",
    "z += initial_roughness\n",
    "for edge in (mg.nodes_at_left_edge, mg.nodes_at_right_edge):\n",
    "    mg.status_at_node[edge] = CLOSED_BOUNDARY\n",
    "for edge in (mg.nodes_at_top_edge, mg.nodes_at_bottom_edge):\n",
    "    mg.status_at_node[edge] = FIXED_VALUE_BOUNDARY\n",
    "    \n",
    "# instantiate components\n",
    "fr = FlowRouter(mg, **inputs)\n",
    "sp = FastscapeEroder(mg, **inputs)\n",
    "lin_diffuse = LinearDiffuser(mg, **inputs) \n",
    "\n",
    "\n",
    "# run\n",
    "z[:] = initial_roughness\n",
    "#figure('topo with diffusion')\n",
    "for i in range(nt):\n",
    "    lin_diffuse.run_one_step(dt)  # no diffusion this time\n",
    "    fr.run_one_step() # route_flow isn't time sensitive, so it doesn't take dt as input\n",
    "    sp.run_one_step(dt)\n",
    "    mg.at_node['topographic__elevation'][mg.core_nodes] += uplift_per_step # add the uplift\n",
    "    if i % 20 == 0:\n",
    "        print ('Completed loop %d' % i)\n",
    "        #imshow_grid(mg, 'topographic__elevation', grid_units=['km','km'],\n",
    "        #            var_name='Elevation (km)')\n",
    "\n",
    "# plot\n",
    "figure('topo with diffusion')\n",
    "imshow_grid(mg, 'topographic__elevation', grid_units=['km','km'],\n",
    "            var_name='Elevation (km)')"
   ]
  },
  {
   "cell_type": "code",
   "execution_count": null,
   "metadata": {
    "collapsed": true
   },
   "outputs": [],
   "source": []
  },
  {
   "cell_type": "code",
   "execution_count": null,
   "metadata": {
    "collapsed": true
   },
   "outputs": [],
   "source": []
  }
 ],
 "metadata": {
  "kernelspec": {
   "display_name": "Python 2",
   "language": "python",
   "name": "python2"
  },
  "language_info": {
   "codemirror_mode": {
    "name": "ipython",
    "version": 2
   },
   "file_extension": ".py",
   "mimetype": "text/x-python",
   "name": "python",
   "nbconvert_exporter": "python",
   "pygments_lexer": "ipython2",
   "version": "2.7.13"
  }
 },
 "nbformat": 4,
 "nbformat_minor": 1
}
