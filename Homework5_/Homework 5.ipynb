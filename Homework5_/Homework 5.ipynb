{
 "cells": [
  {
   "cell_type": "markdown",
   "metadata": {},
   "source": [
    "# Homework 5"
   ]
  },
  {
   "cell_type": "code",
   "execution_count": 34,
   "metadata": {
    "collapsed": true
   },
   "outputs": [],
   "source": [
    "from landlab.components import LinearDiffuser\n",
    "from landlab.plot import imshow_grid\n",
    "from landlab import RasterModelGrid, CLOSED_BOUNDARY, FIXED_VALUE_BOUNDARY\n",
    "from matplotlib.pyplot import figure, show, plot, xlabel, ylabel, title\n",
    "import numpy as np\n",
    "\n",
    "from landlab.components import FlowRouter, FastscapeEroder\n",
    "from landlab import load_params"
   ]
  },
  {
   "cell_type": "code",
   "execution_count": 35,
   "metadata": {},
   "outputs": [
    {
     "ename": "ValueError",
     "evalue": "parsing of parameter file did not produce a dict-like object",
     "output_type": "error",
     "traceback": [
      "\u001b[0;31m---------------------------------------------------------------------------\u001b[0m",
      "\u001b[0;31mValueError\u001b[0m                                Traceback (most recent call last)",
      "\u001b[0;32m<ipython-input-35-ee00c6b3b92c>\u001b[0m in \u001b[0;36m<module>\u001b[0;34m()\u001b[0m\n\u001b[1;32m      4\u001b[0m \u001b[0;31m# Import parameters from a txt file\u001b[0m\u001b[0;34m\u001b[0m\u001b[0;34m\u001b[0m\u001b[0m\n\u001b[1;32m      5\u001b[0m \u001b[0minput_file\u001b[0m \u001b[0;34m=\u001b[0m \u001b[0;34m'./coupled_params.txt'\u001b[0m\u001b[0;34m\u001b[0m\u001b[0m\n\u001b[0;32m----> 6\u001b[0;31m \u001b[0minputs\u001b[0m \u001b[0;34m=\u001b[0m \u001b[0mload_params\u001b[0m\u001b[0;34m(\u001b[0m\u001b[0minput_file\u001b[0m\u001b[0;34m)\u001b[0m \u001b[0;31m# load the data into a dictionary\u001b[0m\u001b[0;34m\u001b[0m\u001b[0m\n\u001b[0m\u001b[1;32m      7\u001b[0m \u001b[0;34m\u001b[0m\u001b[0m\n\u001b[1;32m      8\u001b[0m \u001b[0;31m# Write paramter from txt file\u001b[0m\u001b[0;34m\u001b[0m\u001b[0;34m\u001b[0m\u001b[0m\n",
      "\u001b[0;32m/Users/celia/anaconda/lib/python2.7/site-packages/landlab/core/model_parameter_loader.pyc\u001b[0m in \u001b[0;36mload_params\u001b[0;34m(file_like)\u001b[0m\n\u001b[1;32m     99\u001b[0m     \u001b[0;32mif\u001b[0m \u001b[0;32mnot\u001b[0m \u001b[0misinstance\u001b[0m\u001b[0;34m(\u001b[0m\u001b[0mparams\u001b[0m\u001b[0;34m,\u001b[0m \u001b[0mdict\u001b[0m\u001b[0;34m)\u001b[0m\u001b[0;34m:\u001b[0m\u001b[0;34m\u001b[0m\u001b[0m\n\u001b[1;32m    100\u001b[0m         raise ValueError(\n\u001b[0;32m--> 101\u001b[0;31m             'parsing of parameter file did not produce a dict-like object')\n\u001b[0m\u001b[1;32m    102\u001b[0m \u001b[0;34m\u001b[0m\u001b[0m\n\u001b[1;32m    103\u001b[0m     \u001b[0;32mreturn\u001b[0m \u001b[0mparams\u001b[0m\u001b[0;34m\u001b[0m\u001b[0m\n",
      "\u001b[0;31mValueError\u001b[0m: parsing of parameter file did not produce a dict-like object"
     ]
    }
   ],
   "source": [
    "## Define parameters\n",
    "####################\n",
    "\n",
    "# Import parameters from a txt file\n",
    "input_file = './coupled_params.txt'\n",
    "inputs = load_params(input_file) # load the data into a dictionary\n",
    "\n",
    "# Write paramter from txt file\n",
    "nrows = inputs['nrows'] # Nombre de ligne\n",
    "ncols = inputs['ncols'] # Nombre de colonne\n",
    "dx = inputs['dx'] # Espacement dans les deux directions [m]\n",
    "uplift_rate = inputs['uplift_rate'] #[m/s]\n",
    "total_t = inputs['total_time']\n",
    "dt = inputs['dt']\n",
    "\n",
    "Area = nrows*ncols*dx # [m2]\n",
    "Lc = np.sqrt(Area)\n",
    "\n",
    "#Set parameters for modelisation\n",
    "nt = int(total_t // dt) #this is how many loops we'll need\n",
    "uplift_per_step = uplift_rate * dt\n",
    "\n",
    "# illustrate what the MPD looks like:\n",
    "# print(inputs)\n",
    "print(Area,Lc)"
   ]
  },
  {
   "cell_type": "code",
   "execution_count": 23,
   "metadata": {
    "collapsed": true
   },
   "outputs": [],
   "source": [
    "## Create and define grid\n",
    "#########################\n",
    "\n",
    "# Create grid\n",
    "mg = RasterModelGrid((nrows, ncols), dx)\n",
    "\n",
    "# Create matrice of eleveation z\n",
    "z = mg.add_zeros('node', 'topographic__elevation')\n",
    "\n",
    "# add some roughness, as this lets \"natural\" channel planforms arise\n",
    "initial_roughness = np.random.rand(z.size)/100000.\n",
    "z += initial_roughness\n",
    "\n",
    "# Set boundaries, top and bottom with fixed value, right and left closed\n",
    "for edge in (mg.nodes_at_left_edge, mg.nodes_at_right_edge):\n",
    "    mg.status_at_node[edge] = CLOSED_BOUNDARY\n",
    "for edge in (mg.nodes_at_top_edge, mg.nodes_at_bottom_edge):\n",
    "    mg.status_at_node[edge] = FIXED_VALUE_BOUNDARY"
   ]
  },
  {
   "cell_type": "code",
   "execution_count": 9,
   "metadata": {},
   "outputs": [
    {
     "name": "stdout",
     "output_type": "stream",
     "text": [
      "<landlab.grid.raster.RasterModelGrid object at 0x10f88af90>\n"
     ]
    }
   ],
   "source": [
    "## Implement a run of the model\n",
    "###############################\n",
    "\n",
    "fr = FlowRouter(mg, **inputs)\n",
    "sp = FastscapeEroder(mg, **inputs)\n",
    "lin_diffuse = LinearDiffuser(mg, **inputs)\n",
    "    \n",
    "# LinearDiffuser(grid, linear_diffusivity=None, method='simple')"
   ]
  },
  {
   "cell_type": "code",
   "execution_count": null,
   "metadata": {},
   "outputs": [],
   "source": [
    "# from landlab import RasterModelGrid\n",
    "# import numpy as np\n",
    "# g = RasterModelGrid((9, 9), 1.)\n",
    "# z = mg.add_zeros('node', 'topographic__elevation')\n",
    "z.reshape((9, 9))[4, 4] = 1.\n",
    "mg.set_closed_boundaries_at_grid_edges(True, True, True, True)\n",
    "ld = LinearDiffuser(mg, linear_diffusivity=1.)\n",
    "for i in range(1):\n",
    "...     ld.run_one_step(1.)\n",
    "np.isclose(z[mg.core_nodes].sum(), 1.)\n",
    "True\n",
    "mg2 = RasterModelGrid((5, 30), 1.)\n",
    "z2 = mg2.add_zeros('node', 'topographic__elevation')\n",
    "z2.reshape((5, 30))[2, 8] = 1.\n",
    "z2.reshape((5, 30))[2, 22] = 1.\n",
    "mg2.set_closed_boundaries_at_grid_edges(True, True, True, True)\n",
    "kd = mg2.node_x/mg2.node_x.mean()\n",
    "ld2 = LinearDiffuser(mg2, linear_diffusivity=kd)\n",
    "for i in range(10):\n",
    "...     ld2.run_one_step(0.1)\n",
    "z2[mg2.core_nodes].sum() == 2.\n",
    "True\n",
    "z2.reshape((5, 30))[2, 8] > z2.reshape((5, 30))[2, 22]\n",
    "True\n"
   ]
  },
  {
   "cell_type": "code",
   "execution_count": 7,
   "metadata": {},
   "outputs": [],
   "source": [
    "figure('Title')\n",
    "imshow_grid(mg, 'topographic__elevation', grid_units=['km','km'], var_name='Elevation (km)')"
   ]
  },
  {
   "cell_type": "code",
   "execution_count": 29,
   "metadata": {
    "collapsed": true
   },
   "outputs": [],
   "source": [
    "LinearDiffuser?"
   ]
  },
  {
   "cell_type": "code",
   "execution_count": null,
   "metadata": {
    "collapsed": true
   },
   "outputs": [],
   "source": []
  }
 ],
 "metadata": {
  "kernelspec": {
   "display_name": "Python 2",
   "language": "python",
   "name": "python2"
  },
  "language_info": {
   "codemirror_mode": {
    "name": "ipython",
    "version": 2
   },
   "file_extension": ".py",
   "mimetype": "text/x-python",
   "name": "python",
   "nbconvert_exporter": "python",
   "pygments_lexer": "ipython2",
   "version": "2.7.13"
  }
 },
 "nbformat": 4,
 "nbformat_minor": 2
}
